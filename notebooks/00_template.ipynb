{
 "cells": [
  {
   "cell_type": "markdown",
   "id": "75a62114-6117-4c34-9a47-5ed0bc8455e7",
   "metadata": {},
   "source": [
    "# Título do notebook\n",
    "\n",
    "## TL;DR\n",
    "Fazer uma descrição de 3 linhas do objetivo do notebook e conclusões presentes na análise.\n",
    "\n",
    "## Objetivo\n",
    "\n",
    "Descrever com clareza qual o objetivo desse notebook.\n",
    "\n",
    "## Dados\n",
    "\n",
    "Descrever a base de dados utilizada.\n",
    "\n",
    "## Modelos (opcional)\n",
    "\n",
    "Em caso de treinamento ou comparação de modelos, descrever os modelos considerados\n",
    "\n",
    "## Conclusões\n",
    "Listar **todas** as conclusões obtidas no notebook:\n",
    "1. conclusão 1\n",
    "2. conclusão 2\n",
    "3. etc.\n",
    "\n",
    "\n",
    "## Observações importantes:\n",
    "1. Sempre organize o conteúdo utilizando células markdown e seções. Também utilize células de texto para escrever sua análise das figuras que forem geradas.\n",
    "2. Lembre-se que essa primeira célula deve ter informação suficiente para entender o que foi feito e quais conclusões você chegou, sem ter que ler o notebook inteiro. Isso agiliza muito a busca por informações ao longo do projeto. Além disso, seu eu do futuro (ou novas pessoas que entrem no projeto) vai agradecer se o seu notebook estiver bem escrito e completo."
   ]
  },
  {
   "cell_type": "markdown",
   "id": "0776bc76-40f6-4ad1-a0ed-c275c7c9ae5b",
   "metadata": {},
   "source": [
    "# Aqui é a primeira seção"
   ]
  },
  {
   "cell_type": "code",
   "execution_count": 1,
   "id": "6c765412-de2e-4240-93f2-f6ee92e56eab",
   "metadata": {},
   "outputs": [],
   "source": [
    "import pandas as pd\n",
    "import numpy as np"
   ]
  },
  {
   "cell_type": "code",
   "execution_count": 2,
   "id": "dbb07fdf-4aaf-490a-9483-39aaf7dfcdba",
   "metadata": {},
   "outputs": [],
   "source": [
    "..."
   ]
  },
  {
   "cell_type": "markdown",
   "id": "42c20381-ae16-4241-93b4-1de8e97f4ff0",
   "metadata": {},
   "source": [
    "# Aqui é a segunda seção"
   ]
  },
  {
   "cell_type": "code",
   "execution_count": 4,
   "id": "cedceff1-c0c6-4a8e-9fdd-c39f846d6887",
   "metadata": {},
   "outputs": [],
   "source": [
    "..."
   ]
  },
  {
   "cell_type": "markdown",
   "id": "a8608462-17e8-4920-b3ac-2eab61621141",
   "metadata": {},
   "source": [
    "# Conclusões"
   ]
  },
  {
   "cell_type": "markdown",
   "id": "8bcadcdf-cead-426e-bb44-b492d59ddc4c",
   "metadata": {},
   "source": [
    "Aqui você deve listar todas as conclusões obtidas ao longo do notebook.\n",
    "Pode copiar todo o conteúdo dessa seção lá na parte de conclusões do cabeçalho."
   ]
  }
 ],
 "metadata": {
  "kernelspec": {
   "display_name": "venv",
   "language": "python",
   "name": "python3"
  },
  "language_info": {
   "codemirror_mode": {
    "name": "ipython",
    "version": 3
   },
   "file_extension": ".py",
   "mimetype": "text/x-python",
   "name": "python",
   "nbconvert_exporter": "python",
   "pygments_lexer": "ipython3",
   "version": "3.12.3"
  }
 },
 "nbformat": 4,
 "nbformat_minor": 5
}
