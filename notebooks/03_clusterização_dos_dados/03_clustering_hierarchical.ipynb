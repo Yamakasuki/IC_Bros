{
 "cells": [
  {
   "cell_type": "markdown",
   "id": "75a62114-6117-4c34-9a47-5ed0bc8455e7",
   "metadata": {},
   "source": [
    "# 01_Data_Visualization_Teste\n",
    "\n",
    "## TL;DR\n",
    "Fazer uma descrição de 3 linhas do objetivo do notebook e conclusões presentes na análise.\n",
    "\n",
    "## Objetivo\n",
    "\n",
    "Descrever com clareza qual o objetivo desse notebook.\n",
    "\n",
    "## Dados\n",
    "\n",
    "Descrever a base de dados utilizada.\n",
    "\n",
    "## Modelos (opcional)\n",
    "\n",
    "Em caso de treinamento ou comparação de modelos, descrever os modelos considerados\n",
    "\n",
    "## Conclusões\n",
    "Listar **todas** as conclusões obtidas no notebook:\n",
    "1. conclusão 1\n",
    "2. conclusão 2\n",
    "3. etc.\n",
    "\n",
    "\n",
    "## Observações importantes:\n",
    "1. Sempre organize o conteúdo utilizando células markdown e seções. Também utilize células de texto para escrever sua análise das figuras que forem geradas.\n",
    "2. Lembre-se que essa primeira célula deve ter informação suficiente para entender o que foi feito e quais conclusões você chegou, sem ter que ler o notebook inteiro. Isso agiliza muito a busca por informações ao longo do projeto. Além disso, seu eu do futuro (ou novas pessoas que entrem no projeto) vai agradecer se o seu notebook estiver bem escrito e completo."
   ]
  },
  {
   "cell_type": "markdown",
   "id": "0776bc76-40f6-4ad1-a0ed-c275c7c9ae5b",
   "metadata": {},
   "source": [
    "# Importando as Bibliotecas"
   ]
  },
  {
   "cell_type": "code",
   "execution_count": 9,
   "id": "cce5057e",
   "metadata": {},
   "outputs": [
    {
     "name": "stdout",
     "output_type": "stream",
     "text": [
      "C:/Users/Yama/Documents/Iniciação Científica/Github/movimento/.venv/Scripts/python.exe\n",
      "c:\\Users\\Yama\\Documents\\Iniciação Científica\\Github\\movimento\\.venv\\Scripts\\python.exe\n"
     ]
    }
   ],
   "source": [
    "print(\"C:/Users/Yama/Documents/Iniciação Científica/Github/movimento/.venv/Scripts/python.exe\")\n",
    "\n",
    "import sys\n",
    "print(sys.executable)\n"
   ]
  },
  {
   "cell_type": "code",
   "execution_count": 10,
   "id": "6c765412-de2e-4240-93f2-f6ee92e56eab",
   "metadata": {},
   "outputs": [],
   "source": [
    "import pandas as pd\n",
    "import numpy as np\n",
    "import matplotlib.pyplot as plt\n",
    "import seaborn as sns\n",
    "import os \n",
    "from scipy.cluster.hierarchy import linkage, dendrogram, fcluster\n",
    "from dtaidistance import dtw, clustering\n",
    "\n",
    "from sklearn.preprocessing import StandardScaler\n",
    "\n"
   ]
  },
  {
   "cell_type": "markdown",
   "id": "42abbdb6",
   "metadata": {},
   "source": [
    "# Importando Dataset"
   ]
  },
  {
   "cell_type": "code",
   "execution_count": 11,
   "id": "987c8208",
   "metadata": {},
   "outputs": [],
   "source": [
    "# Caminho da pasta onde estão as subpastas dos voluntários\n",
    "root_dir = \"../../data/data_cluster\"  # Altere para o caminho correto do seu sistema\n",
    "\n",
    "# Configuração de estilo dos gráficos\n",
    "sns.set(style=\"whitegrid\")"
   ]
  },
  {
   "cell_type": "code",
   "execution_count": 12,
   "id": "14ac6aa5",
   "metadata": {},
   "outputs": [
    {
     "name": "stdout",
     "output_type": "stream",
     "text": [
      "Total de amostras carregadas: 25931\n"
     ]
    },
    {
     "data": {
      "text/html": [
       "<div>\n",
       "<style scoped>\n",
       "    .dataframe tbody tr th:only-of-type {\n",
       "        vertical-align: middle;\n",
       "    }\n",
       "\n",
       "    .dataframe tbody tr th {\n",
       "        vertical-align: top;\n",
       "    }\n",
       "\n",
       "    .dataframe thead th {\n",
       "        text-align: right;\n",
       "    }\n",
       "</style>\n",
       "<table border=\"1\" class=\"dataframe\">\n",
       "  <thead>\n",
       "    <tr style=\"text-align: right;\">\n",
       "      <th></th>\n",
       "      <th>626.6068</th>\n",
       "      <th>-0.078125</th>\n",
       "      <th>1.129883</th>\n",
       "      <th>0.1328125</th>\n",
       "      <th>3.71875</th>\n",
       "      <th>-9.46875</th>\n",
       "      <th>-1.34375</th>\n",
       "      <th>-0.2080078</th>\n",
       "      <th>-0.01171875</th>\n",
       "      <th>0.8037109</th>\n",
       "      <th>...</th>\n",
       "      <th>0.8925781</th>\n",
       "      <th>0.9853516</th>\n",
       "      <th>-0.1113281</th>\n",
       "      <th>2.59375</th>\n",
       "      <th>191.2656</th>\n",
       "      <th>93.42404</th>\n",
       "      <th>260.6633</th>\n",
       "      <th>145.1859</th>\n",
       "      <th>289.9967</th>\n",
       "      <th>257.6203</th>\n",
       "    </tr>\n",
       "  </thead>\n",
       "  <tbody>\n",
       "    <tr>\n",
       "      <th>0</th>\n",
       "      <td>626.6403</td>\n",
       "      <td>-0.078125</td>\n",
       "      <td>1.129883</td>\n",
       "      <td>0.132812</td>\n",
       "      <td>3.71875</td>\n",
       "      <td>-9.46875</td>\n",
       "      <td>-1.34375</td>\n",
       "      <td>-0.208008</td>\n",
       "      <td>-0.011719</td>\n",
       "      <td>0.803711</td>\n",
       "      <td>...</td>\n",
       "      <td>NaN</td>\n",
       "      <td>NaN</td>\n",
       "      <td>NaN</td>\n",
       "      <td>NaN</td>\n",
       "      <td>NaN</td>\n",
       "      <td>NaN</td>\n",
       "      <td>NaN</td>\n",
       "      <td>NaN</td>\n",
       "      <td>NaN</td>\n",
       "      <td>NaN</td>\n",
       "    </tr>\n",
       "    <tr>\n",
       "      <th>1</th>\n",
       "      <td>626.6739</td>\n",
       "      <td>-0.078125</td>\n",
       "      <td>1.129883</td>\n",
       "      <td>0.132812</td>\n",
       "      <td>3.71875</td>\n",
       "      <td>-9.46875</td>\n",
       "      <td>-1.34375</td>\n",
       "      <td>-0.208008</td>\n",
       "      <td>-0.011719</td>\n",
       "      <td>0.803711</td>\n",
       "      <td>...</td>\n",
       "      <td>NaN</td>\n",
       "      <td>NaN</td>\n",
       "      <td>NaN</td>\n",
       "      <td>NaN</td>\n",
       "      <td>NaN</td>\n",
       "      <td>NaN</td>\n",
       "      <td>NaN</td>\n",
       "      <td>NaN</td>\n",
       "      <td>NaN</td>\n",
       "      <td>NaN</td>\n",
       "    </tr>\n",
       "    <tr>\n",
       "      <th>2</th>\n",
       "      <td>626.7075</td>\n",
       "      <td>-0.061523</td>\n",
       "      <td>1.046875</td>\n",
       "      <td>-0.089844</td>\n",
       "      <td>-1.25000</td>\n",
       "      <td>-13.03125</td>\n",
       "      <td>-6.37500</td>\n",
       "      <td>-0.208008</td>\n",
       "      <td>-0.011719</td>\n",
       "      <td>0.803711</td>\n",
       "      <td>...</td>\n",
       "      <td>NaN</td>\n",
       "      <td>NaN</td>\n",
       "      <td>NaN</td>\n",
       "      <td>NaN</td>\n",
       "      <td>NaN</td>\n",
       "      <td>NaN</td>\n",
       "      <td>NaN</td>\n",
       "      <td>NaN</td>\n",
       "      <td>NaN</td>\n",
       "      <td>NaN</td>\n",
       "    </tr>\n",
       "    <tr>\n",
       "      <th>3</th>\n",
       "      <td>626.7408</td>\n",
       "      <td>-0.061523</td>\n",
       "      <td>1.046875</td>\n",
       "      <td>-0.089844</td>\n",
       "      <td>-1.25000</td>\n",
       "      <td>-13.03125</td>\n",
       "      <td>-6.37500</td>\n",
       "      <td>-0.208008</td>\n",
       "      <td>-0.011719</td>\n",
       "      <td>0.803711</td>\n",
       "      <td>...</td>\n",
       "      <td>NaN</td>\n",
       "      <td>NaN</td>\n",
       "      <td>NaN</td>\n",
       "      <td>NaN</td>\n",
       "      <td>NaN</td>\n",
       "      <td>NaN</td>\n",
       "      <td>NaN</td>\n",
       "      <td>NaN</td>\n",
       "      <td>NaN</td>\n",
       "      <td>NaN</td>\n",
       "    </tr>\n",
       "    <tr>\n",
       "      <th>4</th>\n",
       "      <td>626.7742</td>\n",
       "      <td>-0.061523</td>\n",
       "      <td>1.046875</td>\n",
       "      <td>-0.089844</td>\n",
       "      <td>-1.25000</td>\n",
       "      <td>-13.03125</td>\n",
       "      <td>-6.37500</td>\n",
       "      <td>-0.208008</td>\n",
       "      <td>-0.011719</td>\n",
       "      <td>0.803711</td>\n",
       "      <td>...</td>\n",
       "      <td>NaN</td>\n",
       "      <td>NaN</td>\n",
       "      <td>NaN</td>\n",
       "      <td>NaN</td>\n",
       "      <td>NaN</td>\n",
       "      <td>NaN</td>\n",
       "      <td>NaN</td>\n",
       "      <td>NaN</td>\n",
       "      <td>NaN</td>\n",
       "      <td>NaN</td>\n",
       "    </tr>\n",
       "  </tbody>\n",
       "</table>\n",
       "<p>5 rows × 754 columns</p>\n",
       "</div>"
      ],
      "text/plain": [
       "   626.6068  -0.078125  1.129883  0.1328125  3.71875  -9.46875  -1.34375  \\\n",
       "0  626.6403  -0.078125  1.129883   0.132812  3.71875  -9.46875  -1.34375   \n",
       "1  626.6739  -0.078125  1.129883   0.132812  3.71875  -9.46875  -1.34375   \n",
       "2  626.7075  -0.061523  1.046875  -0.089844 -1.25000 -13.03125  -6.37500   \n",
       "3  626.7408  -0.061523  1.046875  -0.089844 -1.25000 -13.03125  -6.37500   \n",
       "4  626.7742  -0.061523  1.046875  -0.089844 -1.25000 -13.03125  -6.37500   \n",
       "\n",
       "   -0.2080078  -0.01171875  0.8037109  ...  0.8925781  0.9853516  -0.1113281  \\\n",
       "0   -0.208008    -0.011719   0.803711  ...        NaN        NaN         NaN   \n",
       "1   -0.208008    -0.011719   0.803711  ...        NaN        NaN         NaN   \n",
       "2   -0.208008    -0.011719   0.803711  ...        NaN        NaN         NaN   \n",
       "3   -0.208008    -0.011719   0.803711  ...        NaN        NaN         NaN   \n",
       "4   -0.208008    -0.011719   0.803711  ...        NaN        NaN         NaN   \n",
       "\n",
       "   2.59375  191.2656  93.42404  260.6633  145.1859  289.9967  257.6203  \n",
       "0      NaN       NaN       NaN       NaN       NaN       NaN       NaN  \n",
       "1      NaN       NaN       NaN       NaN       NaN       NaN       NaN  \n",
       "2      NaN       NaN       NaN       NaN       NaN       NaN       NaN  \n",
       "3      NaN       NaN       NaN       NaN       NaN       NaN       NaN  \n",
       "4      NaN       NaN       NaN       NaN       NaN       NaN       NaN  \n",
       "\n",
       "[5 rows x 754 columns]"
      ]
     },
     "execution_count": 12,
     "metadata": {},
     "output_type": "execute_result"
    }
   ],
   "source": [
    "def carregar_dados(root_dir):\n",
    "    \"\"\"\n",
    "    Lê todos os arquivos .csv de subpastas e retorna um DataFrame consolidado.\n",
    "    \"\"\"\n",
    "    all_data = []\n",
    "    for voluntario in os.listdir(root_dir):\n",
    "        pasta = os.path.join(root_dir, voluntario)\n",
    "        if os.path.isdir(pasta):\n",
    "            for arquivo in os.listdir(pasta):\n",
    "                if arquivo.endswith('.csv'):\n",
    "                    caminho_arquivo = os.path.join(pasta, arquivo)\n",
    "                    try:\n",
    "                        # Carregar o CSV\n",
    "                        df = pd.read_csv(caminho_arquivo)\n",
    "                        \n",
    "                        # Garantir que as colunas sejam consistentes\n",
    "                        # Exemplo de ajuste: garantir que a coluna 'data' seja do tipo datetime\n",
    "                        if 'data' in df.columns:\n",
    "                            df['data'] = pd.to_datetime(df['data'], errors='coerce')\n",
    "                        \n",
    "                        # Adicionar a coluna 'voluntario'\n",
    "                        df['voluntario'] = voluntario\n",
    "                        \n",
    "                        # Verificar e tratar valores faltantes, se necessário\n",
    "                        df = df.ffill()\n",
    "                        \n",
    "                        all_data.append(df)\n",
    "                    except Exception as e:\n",
    "                        print(f\"Erro ao ler {caminho_arquivo}: {e}\")\n",
    "    \n",
    "    # Concatenar todos os dados\n",
    "    return pd.concat(all_data, ignore_index=True)\n",
    "\n",
    "dados = carregar_dados(root_dir)\n",
    "print(f\"Total de amostras carregadas: {dados.shape[0]}\")\n",
    "dados.head()\n"
   ]
  },
  {
   "cell_type": "code",
   "execution_count": null,
   "id": "0fb053b2",
   "metadata": {},
   "outputs": [
    {
     "name": "stdout",
     "output_type": "stream",
     "text": [
      "Existem valores NaN ou infinitos nos dados.\n"
     ]
    }
   ],
   "source": [
    "# Selecionando apenas colunas numéricas\n",
    "dados_numericos = dados.select_dtypes(include=[np.number])\n",
    "\n",
    "# Verificando valores NaN ou infinitos nas colunas numéricas\n",
    "if np.any(np.isnan(dados_numericos)) or np.any(np.isinf(dados_numericos)):\n",
    "    print(\"Existem valores NaN ou infinitos nos dados.\")\n",
    "    \n",
    "    # Substituindo valores NaN ou infinitos por 0 nas colunas numéricas\n",
    "    dados_numericos = dados_numericos.replace([np.inf, -np.inf], np.nan)\n",
    "    dados_numericos = dados_numericos.fillna(0)  # Substituir NaN por 0\n",
    "else:\n",
    "    print(\"Os dados estão livres de valores NaN e infinitos.\")\n",
    "\n",
    "# Selecionando as últimas 6 colunas para a clusterização\n",
    "dados_cluster = dados.iloc[:, -6:]\n",
    "\n",
    "# Escalando os dados com StandardScaler\n",
    "scaler = StandardScaler()\n",
    "dados_cluster_scaled = scaler.fit_transform(dados_numericos)\n"
   ]
  },
  {
   "cell_type": "code",
   "execution_count": 14,
   "id": "2fb80e60",
   "metadata": {},
   "outputs": [
    {
     "data": {
      "image/png": "[encoded data removed]",
      "text/plain": [
       "<Figure size 1000x700 with 1 Axes>"
      ]
     },
     "metadata": {},
     "output_type": "display_data"
    }
   ],
   "source": [
    "# Usando o método 'ward' para linkage\n",
    "from scipy.cluster.hierarchy import linkage, dendrogram\n",
    "\n",
    "Z = linkage(dados_cluster_scaled, method='ward')\n",
    "\n",
    "# Gerando o dendrograma\n",
    "plt.figure(figsize=(10, 7))\n",
    "dendrogram(Z)\n",
    "plt.title(\"Dendrograma - Clusterização Hierárquica\")\n",
    "plt.xlabel(\"Amostras\")\n",
    "plt.ylabel(\"Distância Euclidiana\")\n",
    "plt.show()\n"
   ]
  },
  {
   "cell_type": "code",
   "execution_count": null,
   "id": "ce161c7e",
   "metadata": {},
   "outputs": [],
   "source": [
    "import pandas as pd\n",
    "import numpy as np\n",
    "from scipy.cluster.hierarchy import linkage, dendrogram, fcluster\n",
    "import matplotlib.pyplot as plt\n",
    "\n",
    "# 1. Selecionar as últimas 6 colunas numéricas\n",
    "colunas_numericas = dados.select_dtypes(include=np.number).columns\n",
    "ultimas_colunas = colunas_numericas[-6:]\n",
    "dados_numericos = dados[ultimas_colunas].fillna(dados[ultimas_colunas].mean())\n",
    "\n",
    "# 2. Aplicar linkage (usando distância Euclidiana)\n",
    "Z = linkage(dados_numericos, method='ward')  # ou 'complete', 'average'\n",
    "\n",
    "# 3. Plotar o dendrograma\n",
    "plt.figure(figsize=(12, 6))\n",
    "dendrogram(Z)\n",
    "plt.title(\"Dendrograma - Clusterização Hierárquica (Euclidiana)\")\n",
    "plt.xlabel(\"Amostras\")\n",
    "plt.ylabel(\"Distância\")\n",
    "plt.grid(True)\n",
    "plt.show()\n",
    "\n",
    "# 4. Gerar rótulos de cluster (ex: 3 clusters)\n",
    "labels = fcluster(Z, t=3, criterion='maxclust')\n",
    "dados_numericos['cluster'] = labels\n"
   ]
  },
  {
   "cell_type": "code",
   "execution_count": null,
   "id": "5c7cece0",
   "metadata": {},
   "outputs": [],
   "source": [
    "dados_amostras = dados.sample(5000)  # Selecionando uma amostra menor, se necessário\n",
    "variaveis_cluster = dados_amostras.iloc[:, -6:]\n"
   ]
  },
  {
   "cell_type": "code",
   "execution_count": null,
   "id": "16c49fd5",
   "metadata": {},
   "outputs": [],
   "source": [
    "\n",
    "from sklearn.preprocessing import StandardScaler\n",
    "\n",
    "scaler = StandardScaler()\n",
    "dados_cluster_scaled = scaler.fit_transform(variaveis_cluster)\n",
    "\n",
    "from scipy.spatial.distance import pdist, squareform\n",
    "\n",
    "dist_matrix = pdist(dados_cluster_scaled, metric='euclidean')\n",
    "dist_matrix = squareform(dist_matrix)\n"
   ]
  },
  {
   "cell_type": "code",
   "execution_count": null,
   "id": "4a0f444e",
   "metadata": {},
   "outputs": [
    {
     "ename": "ValueError",
     "evalue": "The condensed distance matrix must contain only finite values.",
     "output_type": "error",
     "traceback": [
      "\u001b[31m---------------------------------------------------------------------------\u001b[39m",
      "\u001b[31mValueError\u001b[39m                                Traceback (most recent call last)",
      "\u001b[36mCell\u001b[39m\u001b[36m \u001b[39m\u001b[32mIn[14]\u001b[39m\u001b[32m, line 4\u001b[39m\n\u001b[32m      1\u001b[39m \u001b[38;5;28;01mfrom\u001b[39;00m\u001b[38;5;250m \u001b[39m\u001b[34;01mscipy\u001b[39;00m\u001b[34;01m.\u001b[39;00m\u001b[34;01mcluster\u001b[39;00m\u001b[34;01m.\u001b[39;00m\u001b[34;01mhierarchy\u001b[39;00m\u001b[38;5;250m \u001b[39m\u001b[38;5;28;01mimport\u001b[39;00m linkage\n\u001b[32m      3\u001b[39m \u001b[38;5;66;03m# Usando o método 'ward' para linkage\u001b[39;00m\n\u001b[32m----> \u001b[39m\u001b[32m4\u001b[39m Z = \u001b[43mlinkage\u001b[49m\u001b[43m(\u001b[49m\u001b[43mdados_cluster_scaled\u001b[49m\u001b[43m,\u001b[49m\u001b[43m \u001b[49m\u001b[43mmethod\u001b[49m\u001b[43m=\u001b[49m\u001b[33;43m'\u001b[39;49m\u001b[33;43mward\u001b[39;49m\u001b[33;43m'\u001b[39;49m\u001b[43m)\u001b[49m\n\u001b[32m      6\u001b[39m \u001b[38;5;28;01mimport\u001b[39;00m\u001b[38;5;250m \u001b[39m\u001b[34;01mmatplotlib\u001b[39;00m\u001b[34;01m.\u001b[39;00m\u001b[34;01mpyplot\u001b[39;00m\u001b[38;5;250m \u001b[39m\u001b[38;5;28;01mas\u001b[39;00m\u001b[38;5;250m \u001b[39m\u001b[34;01mplt\u001b[39;00m\n\u001b[32m      7\u001b[39m \u001b[38;5;28;01mfrom\u001b[39;00m\u001b[38;5;250m \u001b[39m\u001b[34;01mscipy\u001b[39;00m\u001b[34;01m.\u001b[39;00m\u001b[34;01mcluster\u001b[39;00m\u001b[34;01m.\u001b[39;00m\u001b[34;01mhierarchy\u001b[39;00m\u001b[38;5;250m \u001b[39m\u001b[38;5;28;01mimport\u001b[39;00m dendrogram\n",
      "\u001b[36mFile \u001b[39m\u001b[32mc:\\Users\\Yama\\Documents\\Iniciação Científica\\Github\\movimento\\.venv\\Lib\\site-packages\\scipy\\cluster\\hierarchy.py:1030\u001b[39m, in \u001b[36mlinkage\u001b[39m\u001b[34m(y, method, metric, optimal_ordering)\u001b[39m\n\u001b[32m   1027\u001b[39m     \u001b[38;5;28;01mraise\u001b[39;00m \u001b[38;5;167;01mValueError\u001b[39;00m(\u001b[33m\"\u001b[39m\u001b[33m`y` must be 1 or 2 dimensional.\u001b[39m\u001b[33m\"\u001b[39m)\n\u001b[32m   1029\u001b[39m \u001b[38;5;28;01mif\u001b[39;00m \u001b[38;5;129;01mnot\u001b[39;00m xp.all(xp.isfinite(y)):\n\u001b[32m-> \u001b[39m\u001b[32m1030\u001b[39m     \u001b[38;5;28;01mraise\u001b[39;00m \u001b[38;5;167;01mValueError\u001b[39;00m(\u001b[33m\"\u001b[39m\u001b[33mThe condensed distance matrix must contain only \u001b[39m\u001b[33m\"\u001b[39m\n\u001b[32m   1031\u001b[39m                      \u001b[33m\"\u001b[39m\u001b[33mfinite values.\u001b[39m\u001b[33m\"\u001b[39m)\n\u001b[32m   1033\u001b[39m n = \u001b[38;5;28mint\u001b[39m(distance.num_obs_y(y))\n\u001b[32m   1034\u001b[39m method_code = _LINKAGE_METHODS[method]\n",
      "\u001b[31mValueError\u001b[39m: The condensed distance matrix must contain only finite values."
     ]
    }
   ],
   "source": [
    "from scipy.cluster.hierarchy import linkage\n",
    "\n",
    "# Usando o método 'ward' para linkage\n",
    "Z = linkage(dados_cluster_scaled, method='ward')\n",
    "\n",
    "import matplotlib.pyplot as plt\n",
    "from scipy.cluster.hierarchy import dendrogram\n",
    "\n",
    "plt.figure(figsize=(10, 7))\n",
    "dendrogram(Z)\n",
    "plt.title(\"Dendrograma da Clusterização Hierárquica\")\n",
    "plt.xlabel(\"Amostras\")\n",
    "plt.ylabel(\"Distância\")\n",
    "plt.show()\n"
   ]
  },
  {
   "cell_type": "code",
   "execution_count": null,
   "id": "33bac250",
   "metadata": {},
   "outputs": [
    {
     "ename": "NameError",
     "evalue": "name 'dados' is not defined",
     "output_type": "error",
     "traceback": [
      "\u001b[31m---------------------------------------------------------------------------\u001b[39m",
      "\u001b[31mNameError\u001b[39m                                 Traceback (most recent call last)",
      "\u001b[36mCell\u001b[39m\u001b[36m \u001b[39m\u001b[32mIn[1]\u001b[39m\u001b[32m, line 1\u001b[39m\n\u001b[32m----> \u001b[39m\u001b[32m1\u001b[39m dados_amostras = \u001b[43mdados\u001b[49m.sample(\u001b[32m5000\u001b[39m)  \u001b[38;5;66;03m# Selecionando uma amostra menor, se necessário\u001b[39;00m\n\u001b[32m      2\u001b[39m variaveis_cluster = dados_amostras.iloc[:, -\u001b[32m6\u001b[39m:]\n",
      "\u001b[31mNameError\u001b[39m: name 'dados' is not defined"
     ]
    }
   ],
   "source": []
  },
  {
   "cell_type": "code",
   "execution_count": null,
   "id": "5b6dd05d",
   "metadata": {},
   "outputs": [
    {
     "ename": "",
     "evalue": "",
     "output_type": "error",
     "traceback": [
      "\u001b[1;31mThe Kernel crashed while executing code in the current cell or a previous cell. \n",
      "\u001b[1;31mPlease review the code in the cell(s) to identify a possible cause of the failure. \n",
      "\u001b[1;31mClick <a href='https://aka.ms/vscodeJupyterKernelCrash'>here</a> for more info. \n",
      "\u001b[1;31mView Jupyter <a href='command:jupyter.viewOutput'>log</a> for further details."
     ]
    }
   ],
   "source": [
    "from scipy.cluster.hierarchy import linkage\n",
    "\n",
    "# Aplicando o método 'ward' para linkage após limpar os dados\n",
    "Z = linkage(dados_cluster_scaled, method='ward')\n",
    "\n",
    "# Visualizar o dendrograma\n",
    "import matplotlib.pyplot as plt\n",
    "from scipy.cluster.hierarchy import dendrogram\n",
    "\n",
    "plt.figure(figsize=(10, 7))\n",
    "dendrogram(Z)\n",
    "plt.title(\"Dendrograma da Clusterização Hierárquica\")\n",
    "plt.xlabel(\"Amostras\")\n",
    "plt.ylabel(\"Distância\")\n",
    "plt.show()\n"
   ]
  },
  {
   "cell_type": "code",
   "execution_count": null,
   "id": "5d842290",
   "metadata": {},
   "outputs": [
    {
     "name": "stdout",
     "output_type": "stream",
     "text": [
      "Formato dos dados numéricos: (25931, 6)\n"
     ]
    }
   ],
   "source": [
    "print(\"Formato dos dados numéricos:\", dados_numericos.shape)"
   ]
  },
  {
   "cell_type": "code",
   "execution_count": null,
   "id": "c28e3e6a",
   "metadata": {},
   "outputs": [
    {
     "ename": "",
     "evalue": "",
     "output_type": "error",
     "traceback": [
      "\u001b[1;31mThe Kernel crashed while executing code in the current cell or a previous cell. \n",
      "\u001b[1;31mPlease review the code in the cell(s) to identify a possible cause of the failure. \n",
      "\u001b[1;31mClick <a href='https://aka.ms/vscodeJupyterKernelCrash'>here</a> for more info. \n",
      "\u001b[1;31mView Jupyter <a href='command:jupyter.viewOutput'>log</a> for further details."
     ]
    }
   ],
   "source": [
    "from scipy.cluster.hierarchy import linkage, dendrogram, fcluster\n",
    "import matplotlib.pyplot as plt\n",
    "\n",
    "# Criar linkage matrix (usando distância Euclidiana)\n",
    "Z = linkage(dados_numericos, method='ward')  # também pode testar: 'complete', 'average'\n",
    "\n",
    "# Plotar dendrograma\n",
    "plt.figure(figsize=(12, 6))\n",
    "dendrogram(Z)\n",
    "plt.title(\"Dendrograma - Clusterização Hierárquica (Euclidiana)\")\n",
    "plt.xlabel(\"Amostras\")\n",
    "plt.ylabel(\"Distância\")\n",
    "plt.grid(True)\n",
    "plt.show()\n",
    "\n",
    "# Obter rótulos dos clusters (ex: 3 grupos)\n",
    "labels = fcluster(Z, t=3, criterion='maxclust')\n",
    "\n",
    "# Adicionar os rótulos ao DataFrame\n",
    "dados_numericos['cluster'] = labels\n"
   ]
  },
  {
   "cell_type": "code",
   "execution_count": null,
   "id": "36256790",
   "metadata": {},
   "outputs": [
    {
     "name": "stdout",
     "output_type": "stream",
     "text": [
      "Total de amostras carregadas: 25931\n"
     ]
    },
    {
     "name": "stderr",
     "output_type": "stream",
     "text": [
      "The compiled dtaidistance C-OMP library is not available.\n",
      "Use Python's multiprocessing library for parellelization (use_mp=True).\n",
      "Call dtw.try_import_c() to get more verbose errors.\n",
      "See the documentation for alternative installation options.\n"
     ]
    },
    {
     "data": {
      "image/png": "[encoded data removed]",
      "text/plain": [
       "<Figure size 1000x500 with 1 Axes>"
      ]
     },
     "metadata": {},
     "output_type": "display_data"
    }
   ],
   "source": [
    "\n",
    "print(f\"Total de amostras carregadas: {dados.shape[0]}\")\n",
    "\n",
    "colunas_numericas = dados.select_dtypes(include=np.number).columns\n",
    "ultimas_colunas = colunas_numericas[-6:]\n",
    "dados_numericos = dados[ultimas_colunas].copy()\n",
    "dados_numericos = dados_numericos.fillna(dados_numericos.mean())\n",
    "\n",
    "# === 4. Amostra reduzida por voluntário para evitar estouro de memória ===\n",
    "amostras_reduzidas = dados_numericos.groupby(dados['voluntario']).mean()\n",
    "\n",
    "# === 5. Preparar séries e aplicar DTW ===\n",
    "series = [row.to_numpy() for _, row in amostras_reduzidas.iterrows()]\n",
    "\n",
    "# Calcular matriz de distância com DTW\n",
    "distance_matrix = dtw.distance_matrix_fast(series, compact=True)\n",
    "\n",
    "# Criar linkage para clusterização hierárquica\n",
    "Z = linkage(distance_matrix, method='complete')\n",
    "\n",
    "# === 6. Plotar dendrograma ===\n",
    "plt.figure(figsize=(10, 5))\n",
    "dendrogram(Z, labels=amostras_reduzidas.index.tolist())\n",
    "plt.title(\"Clusterização Hierárquica com DTW (Amostra Reduzida)\")\n",
    "plt.grid(True)\n",
    "plt.show()\n"
   ]
  },
  {
   "cell_type": "code",
   "execution_count": null,
   "id": "17a25370",
   "metadata": {},
   "outputs": [],
   "source": [
    "import pandas as pd\n",
    "import numpy as np\n",
    "from scipy.cluster.hierarchy import linkage, dendrogram, fcluster\n",
    "import matplotlib.pyplot as plt\n",
    "\n",
    "# 1. Selecionar as últimas 6 colunas numéricas\n",
    "colunas_numericas = dados.select_dtypes(include=np.number).columns\n",
    "ultimas_colunas = colunas_numericas[-6:]\n",
    "dados_numericos = dados[ultimas_colunas].fillna(dados[ultimas_colunas].mean())\n",
    "\n",
    "# 2. Aplicar linkage (usando distância Euclidiana)\n",
    "Z = linkage(dados_numericos, method='ward')  # ou 'complete', 'average'\n",
    "\n",
    "# 3. Plotar o dendrograma\n",
    "plt.figure(figsize=(12, 6))\n",
    "dendrogram(Z)\n",
    "plt.title(\"Dendrograma - Clusterização Hierárquica (Euclidiana)\")\n",
    "plt.xlabel(\"Amostras\")\n",
    "plt.ylabel(\"Distância\")\n",
    "plt.grid(True)\n",
    "plt.show()\n",
    "\n",
    "# 4. Gerar rótulos de cluster (ex: 3 clusters)\n",
    "labels = fcluster(Z, t=3, criterion='maxclust')\n",
    "dados_numericos['cluster'] = labels\n"
   ]
  },
  {
   "cell_type": "markdown",
   "id": "a8608462-17e8-4920-b3ac-2eab61621141",
   "metadata": {},
   "source": [
    "# Conclusões"
   ]
  },
  {
   "cell_type": "markdown",
   "id": "8bcadcdf-cead-426e-bb44-b492d59ddc4c",
   "metadata": {},
   "source": [
    "Aqui você deve listar todas as conclusões obtidas ao longo do notebook.\n",
    "Pode copiar todo o conteúdo dessa seção lá na parte de conclusões do cabeçalho."
   ]
  }
 ],
 "metadata": {
  "kernelspec": {
   "display_name": ".venv",
   "language": "python",
   "name": "python3"
  },
  "language_info": {
   "codemirror_mode": {
    "name": "ipython",
    "version": 3
   },
   "file_extension": ".py",
   "mimetype": "text/x-python",
   "name": "python",
   "nbconvert_exporter": "python",
   "pygments_lexer": "ipython3",
   "version": "3.11.9"
  }
 },
 "nbformat": 4,
 "nbformat_minor": 5
}
