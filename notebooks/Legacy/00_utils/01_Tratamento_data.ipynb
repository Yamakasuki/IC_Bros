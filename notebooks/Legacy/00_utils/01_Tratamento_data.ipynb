{
 "cells": [
  {
   "cell_type": "markdown",
   "id": "75a62114-6117-4c34-9a47-5ed0bc8455e7",
   "metadata": {},
   "source": [
    "# Título do notebook\n",
    "\n",
    "## TL;DR\n",
    "Fazer uma descrição de 3 linhas do objetivo do notebook e conclusões presentes na análise.\n",
    "\n",
    "## Objetivo\n",
    "\n",
    "Descrever com clareza qual o objetivo desse notebook.\n",
    "\n",
    "## Dados\n",
    "\n",
    "Descrever a base de dados utilizada.\n",
    "\n",
    "## Modelos (opcional)\n",
    "\n",
    "Em caso de treinamento ou comparação de modelos, descrever os modelos considerados\n",
    "\n",
    "## Conclusões\n",
    "Listar **todas** as conclusões obtidas no notebook:\n",
    "1. conclusão 1\n",
    "2. conclusão 2\n",
    "3. etc.\n",
    "\n",
    "\n",
    "## Observações importantes:\n",
    "1. Sempre organize o conteúdo utilizando células markdown e seções. Também utilize células de texto para escrever sua análise das figuras que forem geradas.\n",
    "2. Lembre-se que essa primeira célula deve ter informação suficiente para entender o que foi feito e quais conclusões você chegou, sem ter que ler o notebook inteiro. Isso agiliza muito a busca por informações ao longo do projeto. Além disso, seu eu do futuro (ou novas pessoas que entrem no projeto) vai agradecer se o seu notebook estiver bem escrito e completo."
   ]
  },
  {
   "cell_type": "markdown",
   "id": "0776bc76-40f6-4ad1-a0ed-c275c7c9ae5b",
   "metadata": {},
   "source": [
    "# Aqui é a primeira seção"
   ]
  },
  {
   "cell_type": "code",
   "execution_count": 2,
   "id": "a6d5d0a0",
   "metadata": {},
   "outputs": [
    {
     "name": "stdout",
     "output_type": "stream",
     "text": [
      "Processando: ../../data/original\\Volt1_ex1.csv\n",
      "Removendo 16 linhas do início do CSV (858)\n",
      " Arquivo tratado salvo em: ./teste/new_data/Volt1_ex1.csv\n",
      "Processando: ../../data/original\\Volt1_ex2.csv\n",
      "Removendo 30 linhas do início do CSV (906)\n",
      " Arquivo tratado salvo em: ./teste/new_data/Volt1_ex2.csv\n",
      "Processando: ../../data/original\\Volt1_ex3.csv\n",
      "Removendo 20 linhas do início do CSV (941)\n",
      " Arquivo tratado salvo em: ./teste/new_data/Volt1_ex3.csv\n",
      "Processando: ../../data/original\\Volt1_ex4.csv\n",
      "Removendo 12 linhas do início do CSV (977)\n",
      " Arquivo tratado salvo em: ./teste/new_data/Volt1_ex4.csv\n",
      "Processando: ../../data/original\\Volt1_ex5.csv\n",
      "Removendo 1 linhas do início do CSV (1012)\n",
      " Arquivo tratado salvo em: ./teste/new_data/Volt1_ex5.csv\n",
      "Processando: ../../data/original\\Volt2_ex1.csv\n",
      "Removendo 29 linhas do início do CSV (1375)\n",
      " Arquivo tratado salvo em: ./teste/new_data/Volt2_ex1.csv\n",
      "Processando: ../../data/original\\Volt2_ex2.csv\n",
      "Removendo 2 linhas do início do CSV (1634)\n",
      " Arquivo tratado salvo em: ./teste/new_data/Volt2_ex2.csv\n",
      "Processando: ../../data/original\\Volt2_ex3.csv\n",
      "Removendo 13 linhas do início do CSV (1566)\n",
      " Arquivo tratado salvo em: ./teste/new_data/Volt2_ex3.csv\n",
      "Processando: ../../data/original\\Volt2_ex4.csv\n",
      "Removendo 24 linhas do início do CSV (1515)\n",
      " Arquivo tratado salvo em: ./teste/new_data/Volt2_ex4.csv\n",
      "Processando: ../../data/original\\Volt2_ex5.csv\n",
      " Arquivo tratado salvo em: ./teste/new_data/Volt2_ex5.csv\n",
      "Processando: ../../data/original\\Volt3_ex1.csv\n",
      "Removendo 26 linhas do início do CSV (1165)\n",
      " Arquivo tratado salvo em: ./teste/new_data/Volt3_ex1.csv\n",
      "Processando: ../../data/original\\Volt3_ex2.csv\n",
      "Removendo 9 linhas do início do CSV (1247)\n",
      " Arquivo tratado salvo em: ./teste/new_data/Volt3_ex2.csv\n",
      "Processando: ../../data/original\\Volt3_ex3.csv\n",
      "Removendo 1 linhas do início do CSV (1309)\n",
      " Arquivo tratado salvo em: ./teste/new_data/Volt3_ex3.csv\n",
      "Processando: ../../data/original\\Volt3_ex4.csv\n",
      "Removendo 15 linhas do início do CSV (1353)\n",
      " Arquivo tratado salvo em: ./teste/new_data/Volt3_ex4.csv\n",
      "Processando: ../../data/original\\Volt3_ex5.csv\n",
      "Removendo 16 linhas do início do CSV (1402)\n",
      " Arquivo tratado salvo em: ./teste/new_data/Volt3_ex5.csv\n",
      "Processando: ../../data/original\\Volt4_ex1.csv\n",
      "Removendo 28 linhas do início do CSV (1555)\n",
      " Arquivo tratado salvo em: ./teste/new_data/Volt4_ex1.csv\n",
      "Processando: ../../data/original\\Volt4_ex2.csv\n",
      " Arquivo tratado salvo em: ./teste/new_data/Volt4_ex2.csv\n",
      "Processando: ../../data/original\\Volt4_ex3.csv\n",
      "Removendo 11 linhas do início do CSV (1673)\n",
      " Arquivo tratado salvo em: ./teste/new_data/Volt4_ex3.csv\n",
      "Processando: ../../data/original\\Volt4_ex4.csv\n",
      "Removendo 28 linhas do início do CSV (1756)\n",
      " Arquivo tratado salvo em: ./teste/new_data/Volt4_ex4.csv\n",
      "Processando: ../../data/original\\Volt4_ex5.csv\n",
      "Removendo 13 linhas do início do CSV (1813)\n",
      " Arquivo tratado salvo em: ./teste/new_data/Volt4_ex5.csv\n",
      "Processando: ../../data/original\\Volt5_ex1.csv\n",
      "Removendo 16 linhas do início do CSV (858)\n",
      " Arquivo tratado salvo em: ./teste/new_data/Volt5_ex1.csv\n",
      "Processando: ../../data/original\\Volt5_ex2.csv\n",
      "Removendo 30 linhas do início do CSV (906)\n",
      " Arquivo tratado salvo em: ./teste/new_data/Volt5_ex2.csv\n",
      "Processando: ../../data/original\\Volt5_ex3.csv\n",
      "Removendo 20 linhas do início do CSV (941)\n",
      " Arquivo tratado salvo em: ./teste/new_data/Volt5_ex3.csv\n",
      "Processando: ../../data/original\\Volt5_ex4.csv\n",
      "Removendo 12 linhas do início do CSV (977)\n",
      " Arquivo tratado salvo em: ./teste/new_data/Volt5_ex4.csv\n",
      "Processando: ../../data/original\\Volt5_ex5.csv\n",
      "Removendo 1 linhas do início do CSV (1012)\n",
      " Arquivo tratado salvo em: ./teste/new_data/Volt5_ex5.csv\n",
      "Processando: ../../data/original\\Volt6_ex1.csv\n",
      "Removendo 26 linhas do início do CSV (1165)\n",
      " Arquivo tratado salvo em: ./teste/new_data/Volt6_ex1.csv\n",
      "Processando: ../../data/original\\Volt6_ex2.csv\n",
      "Removendo 9 linhas do início do CSV (1247)\n",
      " Arquivo tratado salvo em: ./teste/new_data/Volt6_ex2.csv\n",
      "Processando: ../../data/original\\Volt6_ex3.csv\n",
      "Removendo 1 linhas do início do CSV (1309)\n",
      " Arquivo tratado salvo em: ./teste/new_data/Volt6_ex3.csv\n",
      "Processando: ../../data/original\\Volt6_ex4.csv\n",
      "Removendo 15 linhas do início do CSV (1353)\n",
      " Arquivo tratado salvo em: ./teste/new_data/Volt6_ex4.csv\n",
      "Processando: ../../data/original\\Volt6_ex5.csv\n",
      "Removendo 16 linhas do início do CSV (1402)\n",
      " Arquivo tratado salvo em: ./teste/new_data/Volt6_ex5.csv\n",
      "Processando: ../../data/original\\Volt7_ex1.csv\n",
      "Removendo 24 linhas do início do CSV (1258)\n",
      " Arquivo tratado salvo em: ./teste/new_data/Volt7_ex1.csv\n",
      "Processando: ../../data/original\\Volt7_ex2.csv\n",
      "Removendo 4 linhas do início do CSV (1318)\n",
      " Arquivo tratado salvo em: ./teste/new_data/Volt7_ex2.csv\n",
      "Processando: ../../data/original\\Volt7_ex3.csv\n",
      "Removendo 16 linhas do início do CSV (1378)\n",
      " Arquivo tratado salvo em: ./teste/new_data/Volt7_ex3.csv\n",
      "Processando: ../../data/original\\Volt7_ex4.csv\n",
      "Removendo 6 linhas do início do CSV (1432)\n",
      " Arquivo tratado salvo em: ./teste/new_data/Volt7_ex4.csv\n",
      "Processando: ../../data/original\\Volt7_ex5.csv\n",
      "Removendo 11 linhas do início do CSV (1494)\n",
      " Arquivo tratado salvo em: ./teste/new_data/Volt7_ex5.csv\n",
      "Todos os arquivos foram processados e salvos na pasta 'data_tratado'!\n"
     ]
    }
   ],
   "source": [
    "import pandas as pd\n",
    "import os\n",
    "import glob\n",
    "\n",
    "def tratar_csv(arquivo_csv):\n",
    "    \"\"\" \n",
    "    Processa um CSV removendo seções iniciais e finais menores que 30 linhas \n",
    "    e adiciona uma coluna de Timestamp (1/30 segundos por linha).\n",
    "    \"\"\"\n",
    "    df = pd.read_csv(arquivo_csv, header=None)\n",
    "    \n",
    "    tempo = df.iloc[:, 0]\n",
    "    tempo_inteiro = tempo.astype(str).str.split('.').str[0].astype(int)\n",
    "    \n",
    "    primeiro_valor = tempo_inteiro.iloc[0]\n",
    "    indices_inicio = (tempo_inteiro != primeiro_valor).idxmax()\n",
    "    \n",
    "    if indices_inicio <= 30:\n",
    "        print(f\"Removendo {indices_inicio} linhas do início do CSV ({primeiro_valor})\")\n",
    "        df = df.iloc[indices_inicio:]  \n",
    "\n",
    "    ultimo_valor = tempo_inteiro.iloc[-1]\n",
    "    indices_fim = (tempo_inteiro[::-1] != ultimo_valor).idxmax()\n",
    "    \n",
    "    if indices_fim <= 30:\n",
    "        print(f\"Removendo {indices_fim} linhas do final do CSV ({ultimo_valor})\")\n",
    "        df = df.iloc[:-indices_fim]  \n",
    "\n",
    "    df = df.reset_index(drop=True)\n",
    "    df[\"Timestamp\"] = df.index / 30  \n",
    "\n",
    "    return df  \n",
    "\n",
    "# Diretórios de origem e destino\n",
    "caminho_dados = \"../../data/original/\"\n",
    "caminho_dados_tratado = \"./teste/new_data/\"\n",
    "os.makedirs(caminho_dados_tratado, exist_ok=True)\n",
    "\n",
    "# Processar todos os arquivos CSV\n",
    "arquivos = glob.glob(f\"{caminho_dados}/*.csv\")\n",
    "\n",
    "for arquivo in arquivos:\n",
    "    print(f\"Processando: {arquivo}\")\n",
    "    \n",
    "    df_tratado = tratar_csv(arquivo)\n",
    "    \n",
    "    nome_arquivo = os.path.basename(arquivo)\n",
    "    caminho_tratado = os.path.join(caminho_dados_tratado, nome_arquivo)\n",
    "\n",
    "    df_tratado.to_csv(caminho_tratado, index=False, header=False)\n",
    "    print(f\" Arquivo tratado salvo em: {caminho_tratado}\")\n",
    "\n",
    "print(\"Todos os arquivos foram processados e salvos na pasta 'data_tratado'!\")\n"
   ]
  },
  {
   "cell_type": "code",
   "execution_count": 7,
   "id": "dbb07fdf-4aaf-490a-9483-39aaf7dfcdba",
   "metadata": {},
   "outputs": [
    {
     "data": {
      "text/plain": [
       "Ellipsis"
      ]
     },
     "execution_count": 7,
     "metadata": {},
     "output_type": "execute_result"
    }
   ],
   "source": [
    "..."
   ]
  },
  {
   "cell_type": "markdown",
   "id": "42c20381-ae16-4241-93b4-1de8e97f4ff0",
   "metadata": {},
   "source": [
    "# Aqui é a segunda seção"
   ]
  },
  {
   "cell_type": "code",
   "execution_count": 8,
   "id": "cedceff1-c0c6-4a8e-9fdd-c39f846d6887",
   "metadata": {},
   "outputs": [
    {
     "data": {
      "text/plain": [
       "Ellipsis"
      ]
     },
     "execution_count": 8,
     "metadata": {},
     "output_type": "execute_result"
    }
   ],
   "source": [
    "..."
   ]
  },
  {
   "cell_type": "markdown",
   "id": "a8608462-17e8-4920-b3ac-2eab61621141",
   "metadata": {},
   "source": [
    "# Conclusões"
   ]
  },
  {
   "cell_type": "markdown",
   "id": "8bcadcdf-cead-426e-bb44-b492d59ddc4c",
   "metadata": {},
   "source": [
    "Aqui você deve listar todas as conclusões obtidas ao longo do notebook.\n",
    "Pode copiar todo o conteúdo dessa seção lá na parte de conclusões do cabeçalho."
   ]
  }
 ],
 "metadata": {
  "kernelspec": {
   "display_name": "Python 3",
   "language": "python",
   "name": "python3"
  },
  "language_info": {
   "codemirror_mode": {
    "name": "ipython",
    "version": 3
   },
   "file_extension": ".py",
   "mimetype": "text/x-python",
   "name": "python",
   "nbconvert_exporter": "python",
   "pygments_lexer": "ipython3",
   "version": "3.11.9"
  }
 },
 "nbformat": 4,
 "nbformat_minor": 5
}
