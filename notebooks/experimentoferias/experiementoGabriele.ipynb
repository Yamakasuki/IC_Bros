{
 "cells": [
  {
   "cell_type": "markdown",
   "id": "0bda6204-0eff-482c-8e17-98c71e6383f6",
   "metadata": {},
   "source": [
    "# Experiemento Gabriele"
   ]
  },
  {
   "cell_type": "code",
   "execution_count": null,
   "id": "7871b867-8d76-4baf-923a-1b8081c3b953",
   "metadata": {},
   "outputs": [],
   "source": [
    "## leitura e Tratamento dos dados"
   ]
  },
  {
   "cell_type": "code",
   "execution_count": null,
   "id": "1ce9ce2e-d8ca-4782-9932-761c3c03aa03",
   "metadata": {},
   "outputs": [],
   "source": [
    "## carrega os dados"
   ]
  },
  {
   "cell_type": "code",
   "execution_count": null,
   "id": "96fea0e7-31b8-42cd-ab71-a23e65909c63",
   "metadata": {},
   "outputs": [],
   "source": [
    "## pre-processamento 1"
   ]
  },
  {
   "cell_type": "code",
   "execution_count": null,
   "id": "419d3097-c258-4d29-acc9-2aa3ef236f4a",
   "metadata": {},
   "outputs": [],
   "source": [
    "\"\"\"\n",
    "ajustando comprimento por voluntário/exercicio (fillna)\n",
    "\"\"\""
   ]
  },
  {
   "cell_type": "code",
   "execution_count": 1,
   "id": "e2e3e51c-92a4-4b3b-95b5-e623ab9551cd",
   "metadata": {},
   "outputs": [],
   "source": [
    "## visualização das séries"
   ]
  },
  {
   "cell_type": "code",
   "execution_count": null,
   "id": "ba8ed96e-3b77-4e9b-94a0-84687c36c8d3",
   "metadata": {},
   "outputs": [],
   "source": [
    "\"\"\"\n",
    "plot joelho com todos os voluntário e trials (cor por voluntário)\n",
    "plot quadril com todos os voluntário e trials (cor por voluntário)\n",
    "\"\"\""
   ]
  },
  {
   "cell_type": "code",
   "execution_count": null,
   "id": "8cfb33e7-ead5-4657-b7f2-61e1eb870946",
   "metadata": {},
   "outputs": [],
   "source": [
    "## mais pre-processamento dos dados (para melhorar no cálculo de distâncias)"
   ]
  },
  {
   "cell_type": "code",
   "execution_count": null,
   "id": "6d02fc00-ce8b-4970-839c-4d42fa6bd8e4",
   "metadata": {},
   "outputs": [],
   "source": [
    "\"\"\"\n",
    "suavização de cada série com média móvel\n",
    "suavização de cada série com Locally Estimated Scatterplot Smoothing - LOESS (https://pypi.org/project/loess/)\n",
    "\"\"\""
   ]
  },
  {
   "cell_type": "code",
   "execution_count": null,
   "id": "6b959c82-4daa-4c4a-aa1d-d3a6f5049ceb",
   "metadata": {},
   "outputs": [],
   "source": [
    "## visualização das séries novamente depois dos preprocessamentos novos e escolhe uma"
   ]
  },
  {
   "cell_type": "code",
   "execution_count": null,
   "id": "15888c59-2cdb-4c94-bdde-527031340a3b",
   "metadata": {},
   "outputs": [],
   "source": [
    "\"\"\"\n",
    "plot joelho com todos os voluntário e trials (cor por voluntário)\n",
    "plot quadril com todos os voluntário e trials (cor por voluntário)\n",
    "\"\"\""
   ]
  },
  {
   "cell_type": "code",
   "execution_count": null,
   "id": "49794bb9-6df9-440a-8272-402adafd5532",
   "metadata": {},
   "outputs": [],
   "source": [
    "# Clusterização hierárquica"
   ]
  },
  {
   "cell_type": "code",
   "execution_count": null,
   "id": "768bcc83-5161-4ada-8763-2507102b2baf",
   "metadata": {},
   "outputs": [],
   "source": [
    "\"\"\"\n",
    "calcular uma matriz de distância entre as séries. Distâncias:\n",
    "    - a distância vai ser: soma das distancias euclidiana das univariadas (dist joelho x + joelho y + joelho z + quadril x + quadril y + quadril z) \n",
    "        (entre duas trials, igualzinho o que vc já fez antes, só qeu agora considerando todas as variáveis (série temporal **multivariada**)\n",
    "    - usa clusterização hierárquica aglomerativa (sklearn.cluster.AgglomerativeClustering)\n",
    "    - escolhe um corte e visualiza os clusters\n",
    "\"\"\""
   ]
  },
  {
   "cell_type": "code",
   "execution_count": null,
   "id": "7e30b3f2-8e66-472a-b70d-bb5bf9330613",
   "metadata": {},
   "outputs": [],
   "source": [
    "# Clusterização k-means DTW\n",
    "\"\"\"\n",
    "- para n_clusters em [2, 10]:\n",
    "    - clusteriza com o DTW\n",
    "    - calcula métricas (silhouette score, inertia)\n",
    "- analiza regra do cotovelo e escolhe um número de clusters\n",
    "- visualiza clusters\n",
    "\"\"\""
   ]
  },
  {
   "cell_type": "code",
   "execution_count": null,
   "id": "38882f4d-7095-4302-b3e4-4b288ce3809f",
   "metadata": {},
   "outputs": [],
   "source": [
    "# Clusterização k-means CTW\n",
    "\"\"\"\n",
    "- para n_clusters em [2, 10]:\n",
    "    - clusteriza com o CTW\n",
    "    - calcula métricas (silhouette score, inertia)\n",
    "- analiza regra do cotovelo e escolhe um número de clusters\n",
    "- visualiza clusters\n",
    "\"\"\""
   ]
  },
  {
   "cell_type": "code",
   "execution_count": null,
   "id": "cc22aead-88d4-4058-a617-f9b47ed5d581",
   "metadata": {},
   "outputs": [],
   "source": [
    "# Análise dos resultados\n",
    "\"\"\"\n",
    "Compara o que vc obteve com 3 métodos acima.\n",
    "\"\"\"\n",
    "\n",
    "\"\"\"\n",
    "Hipótese: Clusterizar séries temporais é útil para detectar padrões de compensação de movimento nos dados do BSN?\n",
    "Pra responder:\n",
    "- experimento comparando métodos de clusterização para encontrar o melhor deles.\n",
    "- **analisar se a clusterização foi de fato útil ou não**.\n",
    "\"\"\""
   ]
  },
  {
   "cell_type": "code",
   "execution_count": null,
   "id": "742e3c0f-9e9b-4294-aab7-c9bc5f263919",
   "metadata": {},
   "outputs": [],
   "source": []
  },
  {
   "cell_type": "code",
   "execution_count": null,
   "id": "05e83cdf-5609-46ca-bafd-760a530642a0",
   "metadata": {},
   "outputs": [],
   "source": [
    "# Conclusão"
   ]
  },
  {
   "cell_type": "code",
   "execution_count": null,
   "id": "7b474cb9-e6e5-4234-aa4e-19fc1dfe0995",
   "metadata": {},
   "outputs": [],
   "source": []
  }
 ],
 "metadata": {
  "kernelspec": {
   "display_name": "Python 3 (ipykernel)",
   "language": "python",
   "name": "python3"
  },
  "language_info": {
   "codemirror_mode": {
    "name": "ipython",
    "version": 3
   },
   "file_extension": ".py",
   "mimetype": "text/x-python",
   "name": "python",
   "nbconvert_exporter": "python",
   "pygments_lexer": "ipython3",
   "version": "3.13.3"
  }
 },
 "nbformat": 4,
 "nbformat_minor": 5
}
