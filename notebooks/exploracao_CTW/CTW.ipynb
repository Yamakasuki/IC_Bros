{
 "cells": [
  {
   "cell_type": "markdown",
   "id": "e41c899d",
   "metadata": {},
   "source": [
    "# Experimento de analise geral.\n",
    "\n",
    "## TL;DR\n",
    "\n",
    "nesse notebook estudamos como toda nossa exploração se combina e gera uma analise que abrange um escopo maior para \n",
    "\n",
    "## Objetivo\n",
    "\n",
    "estudar como carda tipo de análise desde como cada tipo de pré processamento afeta os dados, até a analise das métricas que cada um dos aplicação dos métodos de clusterização\n",
    "\n",
    "## Dados\n",
    "\n",
    "CSV's\n",
    "\n",
    "\n",
    "\n"
   ]
  },
  {
   "cell_type": "markdown",
   "id": "4687f9a9",
   "metadata": {},
   "source": [
    "1) Entender de fato o que é o CTW \n",
    "2) Ver como ele correlaciona com o DTW e o CCA \n",
    "3) Aplicar o CTW e ver o resultado \n",
    "4) Fazer testes com diversas Features do XYZ-J e XYZ-Q \n",
    "5) Fazer o CTW com o CCA XYZ de dois ângulos (usamos o CTW como ferramenta de comparação de 2 angulos)\n",
    "6) Fazer a comparação com 2 CTW \n"
   ]
  },
  {
   "cell_type": "markdown",
   "id": "e540efcf",
   "metadata": {},
   "source": [
    "Notebooks \n",
    "\n",
    "\n",
    "1-) 2 exercícios de 2 Voluntários\n",
    "\n",
    "\n",
    "2-) cada usuário (7) concatenar os exercícios deles para ter 7 trial . E aplicar CTA neles"
   ]
  },
  {
   "cell_type": "code",
   "execution_count": null,
   "id": "b8b36dd0",
   "metadata": {
    "vscode": {
     "languageId": "plaintext"
    }
   },
   "outputs": [],
   "source": []
  },
  {
   "cell_type": "code",
   "execution_count": null,
   "id": "b7082fbf",
   "metadata": {
    "vscode": {
     "languageId": "plaintext"
    }
   },
   "outputs": [],
   "source": []
  }
 ],
 "metadata": {
  "language_info": {
   "name": "python"
  }
 },
 "nbformat": 4,
 "nbformat_minor": 5
}
