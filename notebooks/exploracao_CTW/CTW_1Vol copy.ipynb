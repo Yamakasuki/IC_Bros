{
 "cells": [
  {
   "cell_type": "markdown",
   "id": "e41c899d",
   "metadata": {},
   "source": [
    "# Experimento de analise geral.\n",
    "\n",
    "## TL;DR\n",
    "\n",
    "nesse notebook estudamos como é o funcionamento do CCA e como podemos aplicar o CTW futuramente \n",
    "\n",
    "## Objetivo\n",
    "\n",
    "estudar como cada séries dos usuários iria se comportar de acordo com a lógica do CCA \n",
    "\n",
    "## Dados\n",
    "\n",
    "CSV's\n",
    "\n",
    "\n",
    "\n"
   ]
  },
  {
   "cell_type": "markdown",
   "id": "4687f9a9",
   "metadata": {},
   "source": [
    "1) Entender de fato o que é o CTW \n",
    "2) Ver como ele correlaciona com o DTW e o CCA \n",
    "3) Aplicar o CTW e ver o resultado \n",
    "4) Fazer testes com diversas Features do XYZ-J e XYZ-Q \n",
    "5) Fazer o CTW com o CCA XYZ de dois ângulos (usamos o CTW como ferramenta de comparação de 2 angulos)\n",
    "6) Fazer a comparação com 2 CTW \n"
   ]
  },
  {
   "cell_type": "markdown",
   "id": "e540efcf",
   "metadata": {},
   "source": [
    "Notebooks \n",
    "\n",
    "\n",
    "1-) 2 exercícios de 2 Voluntários\n",
    "\n",
    "\n",
    "2-) cada usuário (7) concatenar os exercícios deles para ter 7 trial . E aplicar CTA neles"
   ]
  },
  {
   "cell_type": "markdown",
   "id": "c9f82336",
   "metadata": {},
   "source": [
    "Importando as bibliotecas"
   ]
  },
  {
   "cell_type": "code",
   "execution_count": 31,
   "id": "5b2842a0",
   "metadata": {},
   "outputs": [],
   "source": [
    "import pandas as pd\n",
    "import numpy as np\n",
    "from sklearn.cross_decomposition import CCA\n",
    "import matplotlib.pyplot as plt\n",
    "\n",
    "import pandas as pd\n",
    "import numpy as np\n",
    "import matplotlib.pyplot as plt\n",
    "from sklearn.preprocessing import StandardScaler\n",
    "import matplotlib.cm as cm\n",
    "import seaborn as sns\n"
   ]
  },
  {
   "cell_type": "code",
   "execution_count": 32,
   "id": "b8b36dd0",
   "metadata": {},
   "outputs": [
    {
     "data": {
      "text/html": [
       "<div>\n",
       "<style scoped>\n",
       "    .dataframe tbody tr th:only-of-type {\n",
       "        vertical-align: middle;\n",
       "    }\n",
       "\n",
       "    .dataframe tbody tr th {\n",
       "        vertical-align: top;\n",
       "    }\n",
       "\n",
       "    .dataframe thead th {\n",
       "        text-align: right;\n",
       "    }\n",
       "</style>\n",
       "<table border=\"1\" class=\"dataframe\">\n",
       "  <thead>\n",
       "    <tr style=\"text-align: right;\">\n",
       "      <th></th>\n",
       "      <th>859.0118</th>\n",
       "      <th>0.006835938</th>\n",
       "      <th>0.9052734</th>\n",
       "      <th>0.2714844</th>\n",
       "      <th>-5.25</th>\n",
       "      <th>-0.375</th>\n",
       "      <th>-0.5</th>\n",
       "      <th>0.59375</th>\n",
       "      <th>0.2441406</th>\n",
       "      <th>0.8144531</th>\n",
       "      <th>...</th>\n",
       "      <th>-0.5625</th>\n",
       "      <th>-0.875</th>\n",
       "      <th>0.71875</th>\n",
       "      <th>102.9769</th>\n",
       "      <th>91.90424</th>\n",
       "      <th>186.9064</th>\n",
       "      <th>86.0516</th>\n",
       "      <th>198.7182</th>\n",
       "      <th>161.6328</th>\n",
       "      <th>0.0</th>\n",
       "    </tr>\n",
       "  </thead>\n",
       "  <tbody>\n",
       "    <tr>\n",
       "      <th>0</th>\n",
       "      <td>859.0450</td>\n",
       "      <td>0.058594</td>\n",
       "      <td>0.990234</td>\n",
       "      <td>0.235352</td>\n",
       "      <td>-3.0625</td>\n",
       "      <td>-1.06250</td>\n",
       "      <td>-0.1875</td>\n",
       "      <td>0.593750</td>\n",
       "      <td>0.244141</td>\n",
       "      <td>0.814453</td>\n",
       "      <td>...</td>\n",
       "      <td>-0.56250</td>\n",
       "      <td>-0.8750</td>\n",
       "      <td>0.71875</td>\n",
       "      <td>102.9769</td>\n",
       "      <td>91.90424</td>\n",
       "      <td>186.9064</td>\n",
       "      <td>86.05160</td>\n",
       "      <td>198.7182</td>\n",
       "      <td>161.6328</td>\n",
       "      <td>0.033333</td>\n",
       "    </tr>\n",
       "    <tr>\n",
       "      <th>1</th>\n",
       "      <td>859.0781</td>\n",
       "      <td>0.058594</td>\n",
       "      <td>0.990234</td>\n",
       "      <td>0.235352</td>\n",
       "      <td>-3.0625</td>\n",
       "      <td>-1.06250</td>\n",
       "      <td>-0.1875</td>\n",
       "      <td>0.547852</td>\n",
       "      <td>0.257812</td>\n",
       "      <td>0.827148</td>\n",
       "      <td>...</td>\n",
       "      <td>-1.46875</td>\n",
       "      <td>-0.6875</td>\n",
       "      <td>-0.25000</td>\n",
       "      <td>102.9769</td>\n",
       "      <td>91.90424</td>\n",
       "      <td>186.9064</td>\n",
       "      <td>86.24536</td>\n",
       "      <td>198.8709</td>\n",
       "      <td>161.5619</td>\n",
       "      <td>0.066667</td>\n",
       "    </tr>\n",
       "    <tr>\n",
       "      <th>2</th>\n",
       "      <td>859.1118</td>\n",
       "      <td>0.058594</td>\n",
       "      <td>0.990234</td>\n",
       "      <td>0.235352</td>\n",
       "      <td>-3.0625</td>\n",
       "      <td>-1.06250</td>\n",
       "      <td>-0.1875</td>\n",
       "      <td>0.547852</td>\n",
       "      <td>0.257812</td>\n",
       "      <td>0.827148</td>\n",
       "      <td>...</td>\n",
       "      <td>-1.46875</td>\n",
       "      <td>-0.6875</td>\n",
       "      <td>-0.25000</td>\n",
       "      <td>102.9769</td>\n",
       "      <td>91.90424</td>\n",
       "      <td>186.9064</td>\n",
       "      <td>85.88944</td>\n",
       "      <td>199.3856</td>\n",
       "      <td>161.8221</td>\n",
       "      <td>0.100000</td>\n",
       "    </tr>\n",
       "    <tr>\n",
       "      <th>3</th>\n",
       "      <td>859.1449</td>\n",
       "      <td>-0.026367</td>\n",
       "      <td>0.973633</td>\n",
       "      <td>0.260742</td>\n",
       "      <td>-0.9375</td>\n",
       "      <td>0.03125</td>\n",
       "      <td>-0.5000</td>\n",
       "      <td>0.547852</td>\n",
       "      <td>0.257812</td>\n",
       "      <td>0.827148</td>\n",
       "      <td>...</td>\n",
       "      <td>-0.06250</td>\n",
       "      <td>-0.9375</td>\n",
       "      <td>0.40625</td>\n",
       "      <td>102.9769</td>\n",
       "      <td>91.90424</td>\n",
       "      <td>186.9064</td>\n",
       "      <td>85.88944</td>\n",
       "      <td>199.3856</td>\n",
       "      <td>161.8221</td>\n",
       "      <td>0.133333</td>\n",
       "    </tr>\n",
       "    <tr>\n",
       "      <th>4</th>\n",
       "      <td>859.1778</td>\n",
       "      <td>-0.026367</td>\n",
       "      <td>0.973633</td>\n",
       "      <td>0.260742</td>\n",
       "      <td>-0.9375</td>\n",
       "      <td>0.03125</td>\n",
       "      <td>-0.5000</td>\n",
       "      <td>0.547852</td>\n",
       "      <td>0.257812</td>\n",
       "      <td>0.827148</td>\n",
       "      <td>...</td>\n",
       "      <td>-0.06250</td>\n",
       "      <td>-0.9375</td>\n",
       "      <td>0.40625</td>\n",
       "      <td>103.3091</td>\n",
       "      <td>91.58360</td>\n",
       "      <td>186.5158</td>\n",
       "      <td>85.88944</td>\n",
       "      <td>199.3856</td>\n",
       "      <td>161.8221</td>\n",
       "      <td>0.166667</td>\n",
       "    </tr>\n",
       "  </tbody>\n",
       "</table>\n",
       "<p>5 rows × 26 columns</p>\n",
       "</div>"
      ],
      "text/plain": [
       "   859.0118  0.006835938  0.9052734  0.2714844   -5.25   -0.375    -0.5  \\\n",
       "0  859.0450     0.058594   0.990234   0.235352 -3.0625 -1.06250 -0.1875   \n",
       "1  859.0781     0.058594   0.990234   0.235352 -3.0625 -1.06250 -0.1875   \n",
       "2  859.1118     0.058594   0.990234   0.235352 -3.0625 -1.06250 -0.1875   \n",
       "3  859.1449    -0.026367   0.973633   0.260742 -0.9375  0.03125 -0.5000   \n",
       "4  859.1778    -0.026367   0.973633   0.260742 -0.9375  0.03125 -0.5000   \n",
       "\n",
       "    0.59375  0.2441406  0.8144531  ...  -0.5625  -0.875  0.71875  102.9769  \\\n",
       "0  0.593750   0.244141   0.814453  ... -0.56250 -0.8750  0.71875  102.9769   \n",
       "1  0.547852   0.257812   0.827148  ... -1.46875 -0.6875 -0.25000  102.9769   \n",
       "2  0.547852   0.257812   0.827148  ... -1.46875 -0.6875 -0.25000  102.9769   \n",
       "3  0.547852   0.257812   0.827148  ... -0.06250 -0.9375  0.40625  102.9769   \n",
       "4  0.547852   0.257812   0.827148  ... -0.06250 -0.9375  0.40625  103.3091   \n",
       "\n",
       "   91.90424  186.9064   86.0516  198.7182  161.6328       0.0  \n",
       "0  91.90424  186.9064  86.05160  198.7182  161.6328  0.033333  \n",
       "1  91.90424  186.9064  86.24536  198.8709  161.5619  0.066667  \n",
       "2  91.90424  186.9064  85.88944  199.3856  161.8221  0.100000  \n",
       "3  91.90424  186.9064  85.88944  199.3856  161.8221  0.133333  \n",
       "4  91.58360  186.5158  85.88944  199.3856  161.8221  0.166667  \n",
       "\n",
       "[5 rows x 26 columns]"
      ]
     },
     "execution_count": 32,
     "metadata": {},
     "output_type": "execute_result"
    }
   ],
   "source": [
    "# Load time series data\n",
    "df_original = pd.read_csv('../../data/data_rafael_tratado/Voluntário 1_Ex1.csv')\n",
    "df = df_original.copy()\n",
    "df.head()"
   ]
  },
  {
   "cell_type": "code",
   "execution_count": 33,
   "id": "b7082fbf",
   "metadata": {},
   "outputs": [],
   "source": [
    "# Extracting angles\n",
    "quadril = df.iloc[:, 19:22]  # columns 19, 20, 21 (x, y, z)\n",
    "joelho = df.iloc[:, 22:25]  # columns 22, 23, 24 (x, y, z)\n",
    "\n",
    "# Rename columns\n",
    "quadril.columns = ['Quadril_X', 'Quadril_Y', 'Quadril_Z']\n",
    "joelho.columns = ['Joelho_X', 'Joelho_Y', 'Joelho_Z']\n"
   ]
  },
  {
   "cell_type": "code",
   "execution_count": 34,
   "id": "d1298332",
   "metadata": {},
   "outputs": [],
   "source": [
    "#quadril.head()\n",
    "#joelho.head()"
   ]
  },
  {
   "cell_type": "code",
   "execution_count": 35,
   "id": "b4b54983",
   "metadata": {},
   "outputs": [],
   "source": [
    "scaler = StandardScaler()\n",
    "joelho_normalizado = scaler.fit_transform(joelho)\n",
    "quadril_normalizado = scaler.fit_transform(quadril)\n"
   ]
  },
  {
   "cell_type": "code",
   "execution_count": 36,
   "id": "6909e51e",
   "metadata": {},
   "outputs": [],
   "source": [
    "# Create a CCA model with 3 components (because we have 3D data each)\n",
    "cca = CCA(n_components=2)\n",
    "knee_c, wrist_c = cca.fit_transform(joelho_normalizado, quadril_normalizado)\n",
    "\n"
   ]
  },
  {
   "cell_type": "markdown",
   "id": "6c711ff5",
   "metadata": {},
   "source": [
    "#### Portanto agora cada um dos   `*_c` é um canonical component (1D vector of max correlation)\n"
   ]
  },
  {
   "cell_type": "code",
   "execution_count": 37,
   "id": "f24a2e5a",
   "metadata": {},
   "outputs": [
    {
     "name": "stdout",
     "output_type": "stream",
     "text": [
      "Canonical Correlation 1: 0.9306\n",
      "Canonical Correlation 2: 0.5242\n"
     ]
    }
   ],
   "source": [
    "# Correlation between canonical components\n",
    "corrs = [np.corrcoef(knee_c[:, i], wrist_c[:, i])[0, 1] for i in range(2)]\n",
    "for i, c in enumerate(corrs):\n",
    "    print(f\"Canonical Correlation {i+1}: {c:.4f}\")\n"
   ]
  },
  {
   "cell_type": "markdown",
   "id": "6f39b742",
   "metadata": {},
   "source": [
    "Observando a componente 1"
   ]
  },
  {
   "cell_type": "code",
   "execution_count": 38,
   "id": "a5a9fd1e",
   "metadata": {},
   "outputs": [
    {
     "data": {
      "image/png": "[encoded data removed]",
      "text/plain": [
       "<Figure size 1000x500 with 1 Axes>"
      ]
     },
     "metadata": {},
     "output_type": "display_data"
    }
   ],
   "source": [
    "# Criando um DataFrame com os dados da componente C1\n",
    "df_plot = pd.DataFrame({\n",
    "    'Frame': range(len(knee_c)),\n",
    "    'Joelho - C1': knee_c[:, 0],\n",
    "    'Quadril - C1': wrist_c[:, 0]\n",
    "})\n",
    "\n",
    "# Convertendo para formato long (necessário para sns.lineplot)\n",
    "df_plot_long = pd.melt(df_plot, id_vars='Frame', value_vars=['Joelho - C1', 'Quadril - C1'],\n",
    "                       var_name='Segmento', value_name='Valor')\n",
    "\n",
    "# Plot com Seaborn\n",
    "plt.figure(figsize=(10, 5))\n",
    "sns.lineplot(data=df_plot_long, x='Frame', y='Valor', hue='Segmento')\n",
    "plt.title('Componente Canônica 1 (CCA)')\n",
    "plt.xlabel('Frame')\n",
    "plt.ylabel('Valor do Componente')\n",
    "plt.grid(True)\n",
    "plt.tight_layout()\n",
    "plt.show()\n"
   ]
  },
  {
   "cell_type": "markdown",
   "id": "e066466b",
   "metadata": {},
   "source": [
    "printando os pesos de como cada um dos angulos X Y Z tem relação com as componentes canônicas\n",
    "“Qual é a forma mais forte (linear) com que o movimento do joelho (XYZ) se relaciona com o movimento do quadril (XYZ)?” "
   ]
  },
  {
   "cell_type": "code",
   "execution_count": 39,
   "id": "33fcf9fa",
   "metadata": {},
   "outputs": [
    {
     "name": "stdout",
     "output_type": "stream",
     "text": [
      "Pesos Joelho (x_weights_):\n",
      " [[ 0.98636579 -0.13810775]\n",
      " [ 0.16302307  0.74567192]\n",
      " [-0.02249472 -0.65184326]]\n",
      "Pesos Quadril (y_weights_):\n",
      " [[ 0.84976317 -0.5248519 ]\n",
      " [-0.52115396 -0.85047808]\n",
      " [-0.07937947 -0.03489305]]\n"
     ]
    }
   ],
   "source": [
    "print(\"Pesos Joelho (x_weights_):\\n\", cca.x_weights_)\n",
    "print(\"Pesos Quadril (y_weights_):\\n\", cca.y_weights_)\n"
   ]
  },
  {
   "cell_type": "code",
   "execution_count": 40,
   "id": "3897b7f3",
   "metadata": {},
   "outputs": [
    {
     "data": {
      "text/html": [
       "<div>\n",
       "<style scoped>\n",
       "    .dataframe tbody tr th:only-of-type {\n",
       "        vertical-align: middle;\n",
       "    }\n",
       "\n",
       "    .dataframe tbody tr th {\n",
       "        vertical-align: top;\n",
       "    }\n",
       "\n",
       "    .dataframe thead th {\n",
       "        text-align: right;\n",
       "    }\n",
       "</style>\n",
       "<table border=\"1\" class=\"dataframe\">\n",
       "  <thead>\n",
       "    <tr style=\"text-align: right;\">\n",
       "      <th></th>\n",
       "      <th>0</th>\n",
       "      <th>1</th>\n",
       "    </tr>\n",
       "  </thead>\n",
       "  <tbody>\n",
       "    <tr>\n",
       "      <th>0</th>\n",
       "      <td>0.986366</td>\n",
       "      <td>-0.138108</td>\n",
       "    </tr>\n",
       "    <tr>\n",
       "      <th>1</th>\n",
       "      <td>0.163023</td>\n",
       "      <td>0.745672</td>\n",
       "    </tr>\n",
       "    <tr>\n",
       "      <th>2</th>\n",
       "      <td>-0.022495</td>\n",
       "      <td>-0.651843</td>\n",
       "    </tr>\n",
       "  </tbody>\n",
       "</table>\n",
       "</div>"
      ],
      "text/plain": [
       "          0         1\n",
       "0  0.986366 -0.138108\n",
       "1  0.163023  0.745672\n",
       "2 -0.022495 -0.651843"
      ]
     },
     "metadata": {},
     "output_type": "display_data"
    },
    {
     "data": {
      "text/html": [
       "<div>\n",
       "<style scoped>\n",
       "    .dataframe tbody tr th:only-of-type {\n",
       "        vertical-align: middle;\n",
       "    }\n",
       "\n",
       "    .dataframe tbody tr th {\n",
       "        vertical-align: top;\n",
       "    }\n",
       "\n",
       "    .dataframe thead th {\n",
       "        text-align: right;\n",
       "    }\n",
       "</style>\n",
       "<table border=\"1\" class=\"dataframe\">\n",
       "  <thead>\n",
       "    <tr style=\"text-align: right;\">\n",
       "      <th></th>\n",
       "      <th>0</th>\n",
       "      <th>1</th>\n",
       "    </tr>\n",
       "  </thead>\n",
       "  <tbody>\n",
       "    <tr>\n",
       "      <th>0</th>\n",
       "      <td>0.849763</td>\n",
       "      <td>-0.524852</td>\n",
       "    </tr>\n",
       "    <tr>\n",
       "      <th>1</th>\n",
       "      <td>-0.521154</td>\n",
       "      <td>-0.850478</td>\n",
       "    </tr>\n",
       "    <tr>\n",
       "      <th>2</th>\n",
       "      <td>-0.079379</td>\n",
       "      <td>-0.034893</td>\n",
       "    </tr>\n",
       "  </tbody>\n",
       "</table>\n",
       "</div>"
      ],
      "text/plain": [
       "          0         1\n",
       "0  0.849763 -0.524852\n",
       "1 -0.521154 -0.850478\n",
       "2 -0.079379 -0.034893"
      ]
     },
     "metadata": {},
     "output_type": "display_data"
    }
   ],
   "source": [
    "display(pd.DataFrame(cca.x_weights_))\n",
    "display(pd.DataFrame(cca.y_weights_))"
   ]
  },
  {
   "cell_type": "markdown",
   "id": "58139e8f",
   "metadata": {},
   "source": [
    "| Componente | Joelho\\_X | Joelho\\_Y | Joelho\\_Z | Interpretação                                                            |\n",
    "| ---------- | --------- | --------- | --------- | ------------------------------------------------------------------------ |\n",
    "| **C1**     | 0.9864    | 0.1630    | -0.0225   | 🠒 Principalmente **movimento em X** do joelho                           |\n",
    "| **C2**     | -0.1381   | 0.7457    | -0.6518   | 🠒 Combinação de **Y positivo** e **Z negativo**                         |\n",
    "| **C3**     | -0.0895   | 0.6461    | 0.7580    | 🠒 Combinação de **Y e Z positivos**, quase um vetor oblíquo no plano YZ |\n"
   ]
  },
  {
   "cell_type": "markdown",
   "id": "ecafa7d3",
   "metadata": {},
   "source": [
    "| Componente | Quadril\\_X | Quadril\\_Y | Quadril\\_Z | Interpretação                                          |\n",
    "| ---------- | ---------- | ---------- | ---------- | ------------------------------------------------------ |\n",
    "| **C1**     | 0.8498     | -0.5212    | -0.0794    | 🠒 Maior peso em **X**, com contribuição negativa de Y |\n",
    "| **C2**     | -0.5249    | -0.8505    | -0.0349    | 🠒 Forte componente em **Y negativo**, e um pouco em X |\n",
    "| **C3**     | 0.0493     | -0.0713    | 0.9962     | 🠒 Quase **totalmente o eixo Z** do quadril            |\n"
   ]
  },
  {
   "cell_type": "markdown",
   "id": "e56537b1",
   "metadata": {},
   "source": [
    "## Conclusão Geral\n"
   ]
  },
  {
   "cell_type": "markdown",
   "id": "49199fcd",
   "metadata": {},
   "source": [
    "| Componente | Contribuição Principal   | Relação Biomecânica                                               |\n",
    "| ---------- | ------------------------ | ----------------------------------------------------------------- |\n",
    "| **C1**     | Joelho\\_X ⟷ Quadril\\_X   | Avanço sincronizado das pernas e quadril                          |\n",
    "| **C2**     | Joelho\\_YZ ⟷ Quadril\\_XY | Padrões de oscilação e rotação lateral durante marcha             |\n",
    "| **C3**     | Joelho\\_YZ ⟷ Quadril\\_Z  | Movimento vertical pouco relevante; talvez impacto ou ajuste fino |\n"
   ]
  },
  {
   "cell_type": "markdown",
   "id": "f8df82fe",
   "metadata": {},
   "source": []
  }
 ],
 "metadata": {
  "kernelspec": {
   "display_name": "Python 3",
   "language": "python",
   "name": "python3"
  },
  "language_info": {
   "codemirror_mode": {
    "name": "ipython",
    "version": 3
   },
   "file_extension": ".py",
   "mimetype": "text/x-python",
   "name": "python",
   "nbconvert_exporter": "python",
   "pygments_lexer": "ipython3",
   "version": "3.11.9"
  }
 },
 "nbformat": 4,
 "nbformat_minor": 5
}
