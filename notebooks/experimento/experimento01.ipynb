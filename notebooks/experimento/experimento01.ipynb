{
 "cells": [
  {
   "cell_type": "markdown",
   "id": "d1cf7887",
   "metadata": {},
   "source": [
    "# Experimento de analise geral.\n",
    "\n",
    "## TL;DR\n",
    "\n",
    "nesse notebook estudamos como toda nossa exploração se combina e gera uma analise que abrange um escopo maior para \n",
    "\n",
    "## Objetivo\n",
    "\n",
    "estudar como carda tipo de análise desde como cada tipo de pré processamento afeta os dados, até a analise das métricas que cada um dos aplicação dos métodos de clusterização\n",
    "\n",
    "## Dados\n",
    "\n",
    "CSV's\n",
    "\n",
    "\n",
    "\n"
   ]
  },
  {
   "cell_type": "code",
   "execution_count": null,
   "id": "5213791c",
   "metadata": {},
   "outputs": [],
   "source": []
  }
 ],
 "metadata": {
  "language_info": {
   "name": "python"
  }
 },
 "nbformat": 4,
 "nbformat_minor": 5
}
