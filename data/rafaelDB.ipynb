{
 "cells": [
  {
   "cell_type": "markdown",
   "id": "75a62114-6117-4c34-9a47-5ed0bc8455e7",
   "metadata": {},
   "source": [
    "# Título do notebook\n",
    "\n",
    "## TL;DR\n",
    "Fazer uma descrição de 3 linhas do objetivo do notebook e conclusões presentes na análise.\n",
    "\n",
    "## Objetivo\n",
    "\n",
    "Descrever com clareza qual o objetivo desse notebook.\n",
    "\n",
    "## Dados\n",
    "\n",
    "Descrever a base de dados utilizada.\n",
    "\n",
    "## Modelos (opcional)\n",
    "\n",
    "Em caso de treinamento ou comparação de modelos, descrever os modelos considerados\n",
    "\n",
    "## Conclusões\n",
    "Listar **todas** as conclusões obtidas no notebook:\n",
    "1. conclusão 1\n",
    "2. conclusão 2\n",
    "3. etc.\n",
    "\n",
    "\n",
    "## Observações importantes:\n",
    "1. Sempre organize o conteúdo utilizando células markdown e seções. Também utilize células de texto para escrever sua análise das figuras que forem geradas.\n",
    "2. Lembre-se que essa primeira célula deve ter informação suficiente para entender o que foi feito e quais conclusões você chegou, sem ter que ler o notebook inteiro. Isso agiliza muito a busca por informações ao longo do projeto. Além disso, seu eu do futuro (ou novas pessoas que entrem no projeto) vai agradecer se o seu notebook estiver bem escrito e completo."
   ]
  },
  {
   "cell_type": "markdown",
   "id": "0776bc76-40f6-4ad1-a0ed-c275c7c9ae5b",
   "metadata": {},
   "source": [
    "# Aqui é a primeira seção"
   ]
  },
  {
   "cell_type": "code",
   "execution_count": 1,
   "id": "6c765412-de2e-4240-93f2-f6ee92e56eab",
   "metadata": {},
   "outputs": [
    {
     "name": "stdout",
     "output_type": "stream",
     "text": [
      "   timestamp   Vol1Ex1   Vol1Ex2   Vol1Ex3   Vol1Ex4   Vol1Ex5   Vol2Ex1  \\\n",
      "0     0.0000  86.05160  79.04637  79.92158  88.55168  94.18597  144.2986   \n",
      "1     0.0334  86.05160  79.42403  79.92158  88.55168  94.36861  144.2986   \n",
      "2     0.0668  86.24536  79.42403  79.92158  88.72372  94.36861  144.2986   \n",
      "3     0.1002  85.88944  79.42403  79.92158  88.72372  94.36861  144.4738   \n",
      "4     0.1336  85.88944  79.89925  79.41667  88.72372  94.40106  144.5396   \n",
      "\n",
      "    Vol2Ex2   Vol2Ex3   Vol2Ex4  ...   Vol6Ex1   Vol6Ex2   Vol6Ex3   Vol6Ex4  \\\n",
      "0  138.7671  147.3392  148.2097  ...  192.9248  172.1902  173.6004  204.8451   \n",
      "1  138.7671  147.2379  148.2097  ...  192.9248  172.1767  173.1956  204.8451   \n",
      "2  138.7671  147.2379  148.2097  ...  192.9248  172.1767  173.1956  204.8451   \n",
      "3  138.6201  147.2379  148.2097  ...  192.9248  172.1767  173.1956  204.8451   \n",
      "4  138.6201  146.8200  148.2097  ...  192.9248  172.1767  173.1956  204.8451   \n",
      "\n",
      "    Vol6Ex5   Vol7Ex1   Vol7Ex2   Vol7Ex3   Vol7Ex4   Vol7Ex5  \n",
      "0  208.2256  219.5107  219.5107  219.5107  219.5107  219.5107  \n",
      "1  208.2256  219.5107  219.5107  219.5107  219.5107  219.5107  \n",
      "2  207.7024  219.5107  219.5107  219.5107  219.5107  219.5107  \n",
      "3  207.7024  219.5107  219.5107  219.5107  219.5107  219.5107  \n",
      "4  207.7024  219.5107  219.5107  219.5107  219.5107  219.5107  \n",
      "\n",
      "[5 rows x 36 columns]\n"
     ]
    },
    {
     "data": {
      "text/plain": [
       "(1144, 36)"
      ]
     },
     "execution_count": 1,
     "metadata": {},
     "output_type": "execute_result"
    }
   ],
   "source": [
    "import os\n",
    "import pandas as pd\n",
    "import numpy as np\n",
    "\n",
    "# Caminho da pasta com os arquivos CSV\n",
    "folder = '../../data/data_rafael_tratado'\n",
    "\n",
    "# Inicializa um dicionário para armazenar os dados\n",
    "data_dict = {}\n",
    "\n",
    "# Percorre todos os arquivos no diretório\n",
    "for filename in sorted(os.listdir(folder)):\n",
    "    if filename.endswith('.csv'):\n",
    "        # Ex: Voluntário 1_Ex1.csv -> Vol1Ex1\n",
    "        clean_name = filename.replace('Voluntário ', 'Vol').replace('Voluntario ', 'Vol').replace('_', '').replace('.csv', '')\n",
    "        file_path = os.path.join(folder, filename)\n",
    "        \n",
    "        # Lê o CSV, apenas a coluna 22 (index 21)\n",
    "        df = pd.read_csv(file_path, header=None)\n",
    "        if df.shape[1] > 21:  # Garante que existe a coluna 22\n",
    "            data_dict[clean_name] = df.iloc[:, 22].values\n",
    "\n",
    "# Descobre o maior comprimento de sinal\n",
    "max_len = max(len(col) for col in data_dict.values())\n",
    "\n",
    "# Cria a coluna de tempo com passo de 0.0334\n",
    "timestamps = np.arange(0, max_len * 0.0334, 0.0334)\n",
    "\n",
    "# Cria o DataFrame final\n",
    "final_df = pd.DataFrame({'timestamp': timestamps})\n",
    "\n",
    "# Adiciona os sinais\n",
    "for col_name, signal in data_dict.items():\n",
    "    # Preenche com NaN se o sinal for menor que o maior comprimento\n",
    "    padded_signal = np.pad(signal, (0, max_len - len(signal)), constant_values=np.nan)\n",
    "    final_df[col_name] = padded_signal\n",
    "\n",
    "# Exibe uma prévia do DataFrame\n",
    "print(final_df.head())\n",
    "final_df.shape"
   ]
  },
  {
   "cell_type": "code",
   "execution_count": 2,
   "id": "40c9f7b2",
   "metadata": {},
   "outputs": [],
   "source": [
    "final_df.to_csv('../../data/rafaelDB.csv', index=False)"
   ]
  },
  {
   "cell_type": "code",
   "execution_count": null,
   "id": "5903f224",
   "metadata": {},
   "outputs": [],
   "source": []
  },
  {
   "cell_type": "markdown",
   "id": "42c20381-ae16-4241-93b4-1de8e97f4ff0",
   "metadata": {},
   "source": [
    "# Aqui é a segunda seção"
   ]
  },
  {
   "cell_type": "code",
   "execution_count": 3,
   "id": "cedceff1-c0c6-4a8e-9fdd-c39f846d6887",
   "metadata": {},
   "outputs": [
    {
     "data": {
      "text/plain": [
       "Ellipsis"
      ]
     },
     "execution_count": 3,
     "metadata": {},
     "output_type": "execute_result"
    }
   ],
   "source": [
    "..."
   ]
  },
  {
   "cell_type": "markdown",
   "id": "a8608462-17e8-4920-b3ac-2eab61621141",
   "metadata": {},
   "source": [
    "# Conclusões"
   ]
  },
  {
   "cell_type": "markdown",
   "id": "8bcadcdf-cead-426e-bb44-b492d59ddc4c",
   "metadata": {},
   "source": [
    "Aqui você deve listar todas as conclusões obtidas ao longo do notebook.\n",
    "Pode copiar todo o conteúdo dessa seção lá na parte de conclusões do cabeçalho."
   ]
  }
 ],
 "metadata": {
  "kernelspec": {
   "display_name": "venv",
   "language": "python",
   "name": "python3"
  },
  "language_info": {
   "codemirror_mode": {
    "name": "ipython",
    "version": 3
   },
   "file_extension": ".py",
   "mimetype": "text/x-python",
   "name": "python",
   "nbconvert_exporter": "python",
   "pygments_lexer": "ipython3",
   "version": "3.12.3"
  }
 },
 "nbformat": 4,
 "nbformat_minor": 5
}
