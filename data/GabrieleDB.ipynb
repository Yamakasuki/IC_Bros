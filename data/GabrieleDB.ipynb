{
 "cells": [
  {
   "cell_type": "markdown",
   "id": "75a62114-6117-4c34-9a47-5ed0bc8455e7",
   "metadata": {},
   "source": [
    "# Título do notebook\n",
    "\n",
    "## TL;DR\n",
    "Fazer uma descrição de 3 linhas do objetivo do notebook e conclusões presentes na análise.\n",
    "\n",
    "## Objetivo\n",
    "\n",
    "Descrever com clareza qual o objetivo desse notebook.\n",
    "\n",
    "## Dados\n",
    "\n",
    "Descrever a base de dados utilizada.\n",
    "\n",
    "## Modelos (opcional)\n",
    "\n",
    "Em caso de treinamento ou comparação de modelos, descrever os modelos considerados\n",
    "\n",
    "## Conclusões\n",
    "Listar **todas** as conclusões obtidas no notebook:\n",
    "1. conclusão 1\n",
    "2. conclusão 2\n",
    "3. etc.\n",
    "\n",
    "\n",
    "## Observações importantes:\n",
    "1. Sempre organize o conteúdo utilizando células markdown e seções. Também utilize células de texto para escrever sua análise das figuras que forem geradas.\n",
    "2. Lembre-se que essa primeira célula deve ter informação suficiente para entender o que foi feito e quais conclusões você chegou, sem ter que ler o notebook inteiro. Isso agiliza muito a busca por informações ao longo do projeto. Além disso, seu eu do futuro (ou novas pessoas que entrem no projeto) vai agradecer se o seu notebook estiver bem escrito e completo."
   ]
  },
  {
   "cell_type": "markdown",
   "id": "0776bc76-40f6-4ad1-a0ed-c275c7c9ae5b",
   "metadata": {},
   "source": [
    "# Aqui é a primeira seção"
   ]
  },
  {
   "cell_type": "code",
   "execution_count": 1,
   "id": "6c765412-de2e-4240-93f2-f6ee92e56eab",
   "metadata": {},
   "outputs": [
    {
     "name": "stdout",
     "output_type": "stream",
     "text": [
      "   timestamp  voluntario1_003  voluntario1_004  voluntario1_005  \\\n",
      "0     0.0000         153.5869         140.6963         137.6439   \n",
      "1     0.0334         153.2465         140.7868         137.6439   \n",
      "2     0.0668         153.2465         140.7868         137.6439   \n",
      "3     0.1002         153.0471         140.7868         137.6439   \n",
      "4     0.1336         153.0471         140.8961         137.6439   \n",
      "\n",
      "   voluntario1_006  voluntario1_007  voluntario1_008  voluntario1_009  \\\n",
      "0         140.5624         146.8580         150.8253         157.6682   \n",
      "1         140.5624         146.8547         150.8253         157.6682   \n",
      "2         140.5624         146.8547         150.8253         157.6682   \n",
      "3         140.5624         146.8547         150.8253         157.6682   \n",
      "4         140.5624         146.7946         150.8253         157.6682   \n",
      "\n",
      "   voluntario1_010  voluntario2_001  ...  voluntario5_001  voluntario5_002  \\\n",
      "0         163.6071         192.2271  ...         228.3185         237.3994   \n",
      "1         163.7964         192.2271  ...         228.3185         237.3994   \n",
      "2         163.7964         192.4837  ...         228.2971         237.3994   \n",
      "3         163.7964         192.4837  ...         228.2971         237.3994   \n",
      "4         163.7964         192.5034  ...         228.2971         237.3994   \n",
      "\n",
      "   voluntario5_003  voluntario5_004  voluntario5_005  voluntario5_006  \\\n",
      "0          242.244         243.2977         244.6979         250.7839   \n",
      "1          242.244         243.2252         244.8081         250.7839   \n",
      "2          242.244         243.2252         244.8081         250.7839   \n",
      "3          242.244         243.2252         245.0405         250.8166   \n",
      "4          242.244         243.2252         245.0405         250.8166   \n",
      "\n",
      "   voluntario5_007  voluntario5_008  voluntario5_009  voluntario5_010  \n",
      "0         255.1609         257.8245         258.3698         260.6633  \n",
      "1         255.1609         257.9279         258.3698         260.6633  \n",
      "2         255.4669         257.9279         258.4240         260.6633  \n",
      "3         255.4669         257.9279         258.4240         260.6633  \n",
      "4         255.4669         257.9279         258.4240         260.6633  \n",
      "\n",
      "[5 rows x 51 columns]\n",
      "Shape final: (1075, 51)\n"
     ]
    }
   ],
   "source": [
    "import os\n",
    "import pandas as pd\n",
    "import numpy as np\n",
    "\n",
    "# Caminho da pasta base\n",
    "base_folder = '../../data/data_gabriele'\n",
    "\n",
    "# Inicializa um dicionário para armazenar os dados\n",
    "data_dict = {}\n",
    "\n",
    "# Percorre todos os diretórios de voluntários\n",
    "for voluntario in sorted(os.listdir(base_folder)):\n",
    "    voluntario_path = os.path.join(base_folder, voluntario)\n",
    "    if os.path.isdir(voluntario_path):  # Garante que é uma pasta\n",
    "\n",
    "        # Percorre os arquivos CSV dentro da pasta do voluntário\n",
    "        for filename in sorted(os.listdir(voluntario_path)):\n",
    "            if filename.endswith('.csv'):\n",
    "                file_path = os.path.join(voluntario_path, filename)\n",
    "\n",
    "                # Cria nome da coluna: ex: Vol1_003\n",
    "                col_name = f'{voluntario}_{filename.replace(\".csv\", \"\")}'\n",
    "\n",
    "                # Lê o CSV\n",
    "                df = pd.read_csv(file_path, header=None)\n",
    "\n",
    "                # Garante que existe a coluna 22 (índice 21)\n",
    "                if df.shape[1] > 21:\n",
    "                    data_dict[col_name] = df.iloc[:, 21].values\n",
    "\n",
    "# Descobre o maior comprimento de sinal\n",
    "max_len = max(len(col) for col in data_dict.values())\n",
    "\n",
    "# Cria a coluna de tempo com passo de 0.0334 segundos\n",
    "timestamps = np.arange(0, max_len * 0.0334, 0.0334)\n",
    "\n",
    "# Cria o DataFrame final\n",
    "final_df = pd.DataFrame({'timestamp': timestamps})\n",
    "\n",
    "# Adiciona os sinais\n",
    "for col_name, signal in data_dict.items():\n",
    "    # Preenche com NaN se o sinal for menor que o maior comprimento\n",
    "    padded_signal = np.pad(signal, (0, max_len - len(signal)), constant_values=np.nan)\n",
    "    final_df[col_name] = padded_signal\n",
    "\n",
    "# Exibe uma prévia do DataFrame\n",
    "print(final_df.head())\n",
    "print(f\"Shape final: {final_df.shape}\")\n"
   ]
  },
  {
   "cell_type": "code",
   "execution_count": 3,
   "id": "40c9f7b2",
   "metadata": {},
   "outputs": [],
   "source": [
    "final_df.to_csv('../../data/GabrieleDB.csv', index=False)"
   ]
  },
  {
   "cell_type": "code",
   "execution_count": null,
   "id": "5903f224",
   "metadata": {},
   "outputs": [],
   "source": []
  },
  {
   "cell_type": "markdown",
   "id": "42c20381-ae16-4241-93b4-1de8e97f4ff0",
   "metadata": {},
   "source": [
    "# Aqui é a segunda seção"
   ]
  },
  {
   "cell_type": "code",
   "execution_count": 29,
   "id": "cedceff1-c0c6-4a8e-9fdd-c39f846d6887",
   "metadata": {},
   "outputs": [
    {
     "data": {
      "text/plain": [
       "Ellipsis"
      ]
     },
     "execution_count": 29,
     "metadata": {},
     "output_type": "execute_result"
    }
   ],
   "source": [
    "..."
   ]
  },
  {
   "cell_type": "markdown",
   "id": "a8608462-17e8-4920-b3ac-2eab61621141",
   "metadata": {},
   "source": [
    "# Conclusões"
   ]
  },
  {
   "cell_type": "markdown",
   "id": "8bcadcdf-cead-426e-bb44-b492d59ddc4c",
   "metadata": {},
   "source": [
    "Aqui você deve listar todas as conclusões obtidas ao longo do notebook.\n",
    "Pode copiar todo o conteúdo dessa seção lá na parte de conclusões do cabeçalho."
   ]
  }
 ],
 "metadata": {
  "kernelspec": {
   "display_name": "Python 3",
   "language": "python",
   "name": "python3"
  },
  "language_info": {
   "codemirror_mode": {
    "name": "ipython",
    "version": 3
   },
   "file_extension": ".py",
   "mimetype": "text/x-python",
   "name": "python",
   "nbconvert_exporter": "python",
   "pygments_lexer": "ipython3",
   "version": "3.11.9"
  }
 },
 "nbformat": 4,
 "nbformat_minor": 5
}
